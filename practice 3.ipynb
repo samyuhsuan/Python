{
 "cells": [
  {
   "cell_type": "code",
   "execution_count": 1,
   "metadata": {
    "collapsed": true
   },
   "outputs": [],
   "source": [
    "import numpy as np\n",
    "import pandas as pd"
   ]
  },
  {
   "cell_type": "code",
   "execution_count": 2,
   "metadata": {
    "collapsed": false
   },
   "outputs": [],
   "source": [
    "ndata = pd.read_csv(\"NextData.csv\")"
   ]
  },
  {
   "cell_type": "code",
   "execution_count": 3,
   "metadata": {
    "collapsed": false
   },
   "outputs": [
    {
     "name": "stdout",
     "output_type": "stream",
     "text": [
      "<class 'pandas.core.frame.DataFrame'>\n",
      "RangeIndex: 349 entries, 0 to 348\n",
      "Data columns (total 13 columns):\n",
      "Advertiser                             348 non-null object\n",
      "Advertiser ID                          348 non-null object\n",
      "Advertiser Status                      336 non-null object\n",
      "Advertiser Integration Code            0 non-null float64\n",
      "Time of Day                            336 non-null float64\n",
      "Country                                336 non-null object\n",
      "Device Type                            336 non-null object\n",
      "Advertiser Currency                    336 non-null object\n",
      "Impressions                            337 non-null float64\n",
      "Active View: Measurable Impressions    337 non-null float64\n",
      "Active View: Viewable Impressions      337 non-null float64\n",
      "Clicks                                 337 non-null float64\n",
      "Revenue (Adv Currency)                 337 non-null float64\n",
      "dtypes: float64(7), object(6)\n",
      "memory usage: 35.5+ KB\n"
     ]
    }
   ],
   "source": [
    "ndata.info()"
   ]
  },
  {
   "cell_type": "code",
   "execution_count": 4,
   "metadata": {
    "collapsed": false
   },
   "outputs": [
    {
     "data": {
      "text/html": [
       "<div>\n",
       "<table border=\"1\" class=\"dataframe\">\n",
       "  <thead>\n",
       "    <tr style=\"text-align: right;\">\n",
       "      <th></th>\n",
       "      <th>Advertiser</th>\n",
       "      <th>Advertiser ID</th>\n",
       "      <th>Advertiser Status</th>\n",
       "      <th>Advertiser Integration Code</th>\n",
       "      <th>Time of Day</th>\n",
       "      <th>Country</th>\n",
       "      <th>Device Type</th>\n",
       "      <th>Advertiser Currency</th>\n",
       "      <th>Impressions</th>\n",
       "      <th>Active View: Measurable Impressions</th>\n",
       "      <th>Active View: Viewable Impressions</th>\n",
       "      <th>Clicks</th>\n",
       "      <th>Revenue (Adv Currency)</th>\n",
       "    </tr>\n",
       "  </thead>\n",
       "  <tbody>\n",
       "    <tr>\n",
       "      <th>0</th>\n",
       "      <td>Next_UK_Zenith</td>\n",
       "      <td>378754</td>\n",
       "      <td>Active</td>\n",
       "      <td>NaN</td>\n",
       "      <td>0.0</td>\n",
       "      <td>DE</td>\n",
       "      <td>Desktop</td>\n",
       "      <td>GBP</td>\n",
       "      <td>16033.0</td>\n",
       "      <td>15214.0</td>\n",
       "      <td>4048.0</td>\n",
       "      <td>3.0</td>\n",
       "      <td>15.064673</td>\n",
       "    </tr>\n",
       "    <tr>\n",
       "      <th>1</th>\n",
       "      <td>Next_UK_Zenith</td>\n",
       "      <td>378754</td>\n",
       "      <td>Active</td>\n",
       "      <td>NaN</td>\n",
       "      <td>0.0</td>\n",
       "      <td>HK</td>\n",
       "      <td>Desktop</td>\n",
       "      <td>GBP</td>\n",
       "      <td>24158.0</td>\n",
       "      <td>23581.0</td>\n",
       "      <td>9229.0</td>\n",
       "      <td>19.0</td>\n",
       "      <td>51.533391</td>\n",
       "    </tr>\n",
       "    <tr>\n",
       "      <th>2</th>\n",
       "      <td>Next_UK_Zenith</td>\n",
       "      <td>378754</td>\n",
       "      <td>Active</td>\n",
       "      <td>NaN</td>\n",
       "      <td>1.0</td>\n",
       "      <td>DE</td>\n",
       "      <td>Desktop</td>\n",
       "      <td>GBP</td>\n",
       "      <td>31903.0</td>\n",
       "      <td>30341.0</td>\n",
       "      <td>7678.0</td>\n",
       "      <td>6.0</td>\n",
       "      <td>25.592858</td>\n",
       "    </tr>\n",
       "    <tr>\n",
       "      <th>3</th>\n",
       "      <td>Next_UK_Zenith</td>\n",
       "      <td>378754</td>\n",
       "      <td>Active</td>\n",
       "      <td>NaN</td>\n",
       "      <td>1.0</td>\n",
       "      <td>GB</td>\n",
       "      <td>Desktop</td>\n",
       "      <td>GBP</td>\n",
       "      <td>94044.0</td>\n",
       "      <td>92256.0</td>\n",
       "      <td>57478.0</td>\n",
       "      <td>157.0</td>\n",
       "      <td>301.121433</td>\n",
       "    </tr>\n",
       "    <tr>\n",
       "      <th>4</th>\n",
       "      <td>Next_UK_Zenith</td>\n",
       "      <td>378754</td>\n",
       "      <td>Active</td>\n",
       "      <td>NaN</td>\n",
       "      <td>1.0</td>\n",
       "      <td>GB</td>\n",
       "      <td>Tablet</td>\n",
       "      <td>GBP</td>\n",
       "      <td>53025.0</td>\n",
       "      <td>48877.0</td>\n",
       "      <td>25243.0</td>\n",
       "      <td>49.0</td>\n",
       "      <td>125.552097</td>\n",
       "    </tr>\n",
       "  </tbody>\n",
       "</table>\n",
       "</div>"
      ],
      "text/plain": [
       "       Advertiser Advertiser ID Advertiser Status  \\\n",
       "0  Next_UK_Zenith        378754            Active   \n",
       "1  Next_UK_Zenith        378754            Active   \n",
       "2  Next_UK_Zenith        378754            Active   \n",
       "3  Next_UK_Zenith        378754            Active   \n",
       "4  Next_UK_Zenith        378754            Active   \n",
       "\n",
       "   Advertiser Integration Code  Time of Day Country Device Type  \\\n",
       "0                          NaN          0.0      DE     Desktop   \n",
       "1                          NaN          0.0      HK     Desktop   \n",
       "2                          NaN          1.0      DE     Desktop   \n",
       "3                          NaN          1.0      GB     Desktop   \n",
       "4                          NaN          1.0      GB      Tablet   \n",
       "\n",
       "  Advertiser Currency  Impressions  Active View: Measurable Impressions  \\\n",
       "0                 GBP      16033.0                              15214.0   \n",
       "1                 GBP      24158.0                              23581.0   \n",
       "2                 GBP      31903.0                              30341.0   \n",
       "3                 GBP      94044.0                              92256.0   \n",
       "4                 GBP      53025.0                              48877.0   \n",
       "\n",
       "   Active View: Viewable Impressions  Clicks  Revenue (Adv Currency)  \n",
       "0                             4048.0     3.0               15.064673  \n",
       "1                             9229.0    19.0               51.533391  \n",
       "2                             7678.0     6.0               25.592858  \n",
       "3                            57478.0   157.0              301.121433  \n",
       "4                            25243.0    49.0              125.552097  "
      ]
     },
     "execution_count": 4,
     "metadata": {},
     "output_type": "execute_result"
    }
   ],
   "source": [
    "ndata.head()"
   ]
  },
  {
   "cell_type": "code",
   "execution_count": 5,
   "metadata": {
    "collapsed": false
   },
   "outputs": [
    {
     "data": {
      "text/plain": [
       "Index(['Advertiser', 'Advertiser ID', 'Advertiser Status',\n",
       "       'Advertiser Integration Code', 'Time of Day', 'Country', 'Device Type',\n",
       "       'Advertiser Currency', 'Impressions',\n",
       "       'Active View: Measurable Impressions',\n",
       "       'Active View: Viewable Impressions', 'Clicks',\n",
       "       'Revenue (Adv Currency)'],\n",
       "      dtype='object')"
      ]
     },
     "execution_count": 5,
     "metadata": {},
     "output_type": "execute_result"
    }
   ],
   "source": [
    "ndata.columns"
   ]
  },
  {
   "cell_type": "code",
   "execution_count": 6,
   "metadata": {
    "collapsed": false
   },
   "outputs": [],
   "source": [
    "ndata = ndata.drop(\"Advertiser ID\", 1)"
   ]
  },
  {
   "cell_type": "code",
   "execution_count": 7,
   "metadata": {
    "collapsed": false
   },
   "outputs": [
    {
     "data": {
      "text/plain": [
       "Index(['Advertiser', 'Advertiser Status', 'Advertiser Integration Code',\n",
       "       'Time of Day', 'Country', 'Device Type', 'Advertiser Currency',\n",
       "       'Impressions', 'Active View: Measurable Impressions',\n",
       "       'Active View: Viewable Impressions', 'Clicks',\n",
       "       'Revenue (Adv Currency)'],\n",
       "      dtype='object')"
      ]
     },
     "execution_count": 7,
     "metadata": {},
     "output_type": "execute_result"
    }
   ],
   "source": [
    "ndata.columns"
   ]
  },
  {
   "cell_type": "code",
   "execution_count": 8,
   "metadata": {
    "collapsed": false
   },
   "outputs": [
    {
     "data": {
      "text/html": [
       "<div>\n",
       "<table border=\"1\" class=\"dataframe\">\n",
       "  <thead>\n",
       "    <tr style=\"text-align: right;\">\n",
       "      <th></th>\n",
       "      <th>Advertiser</th>\n",
       "      <th>Advertiser Status</th>\n",
       "      <th>Advertiser Integration Code</th>\n",
       "      <th>Time of Day</th>\n",
       "      <th>Country</th>\n",
       "      <th>Device Type</th>\n",
       "      <th>Advertiser Currency</th>\n",
       "      <th>Impressions</th>\n",
       "      <th>Active View: Measurable Impressions</th>\n",
       "      <th>Active View: Viewable Impressions</th>\n",
       "      <th>Clicks</th>\n",
       "      <th>Revenue (Adv Currency)</th>\n",
       "    </tr>\n",
       "  </thead>\n",
       "  <tbody>\n",
       "    <tr>\n",
       "      <th>0</th>\n",
       "      <td>Next_UK_Zenith</td>\n",
       "      <td>Active</td>\n",
       "      <td>NaN</td>\n",
       "      <td>0.0</td>\n",
       "      <td>DE</td>\n",
       "      <td>Desktop</td>\n",
       "      <td>GBP</td>\n",
       "      <td>16033.0</td>\n",
       "      <td>15214.0</td>\n",
       "      <td>4048.0</td>\n",
       "      <td>3.0</td>\n",
       "      <td>15.064673</td>\n",
       "    </tr>\n",
       "    <tr>\n",
       "      <th>1</th>\n",
       "      <td>Next_UK_Zenith</td>\n",
       "      <td>Active</td>\n",
       "      <td>NaN</td>\n",
       "      <td>0.0</td>\n",
       "      <td>HK</td>\n",
       "      <td>Desktop</td>\n",
       "      <td>GBP</td>\n",
       "      <td>24158.0</td>\n",
       "      <td>23581.0</td>\n",
       "      <td>9229.0</td>\n",
       "      <td>19.0</td>\n",
       "      <td>51.533391</td>\n",
       "    </tr>\n",
       "    <tr>\n",
       "      <th>2</th>\n",
       "      <td>Next_UK_Zenith</td>\n",
       "      <td>Active</td>\n",
       "      <td>NaN</td>\n",
       "      <td>1.0</td>\n",
       "      <td>DE</td>\n",
       "      <td>Desktop</td>\n",
       "      <td>GBP</td>\n",
       "      <td>31903.0</td>\n",
       "      <td>30341.0</td>\n",
       "      <td>7678.0</td>\n",
       "      <td>6.0</td>\n",
       "      <td>25.592858</td>\n",
       "    </tr>\n",
       "    <tr>\n",
       "      <th>3</th>\n",
       "      <td>Next_UK_Zenith</td>\n",
       "      <td>Active</td>\n",
       "      <td>NaN</td>\n",
       "      <td>1.0</td>\n",
       "      <td>GB</td>\n",
       "      <td>Desktop</td>\n",
       "      <td>GBP</td>\n",
       "      <td>94044.0</td>\n",
       "      <td>92256.0</td>\n",
       "      <td>57478.0</td>\n",
       "      <td>157.0</td>\n",
       "      <td>301.121433</td>\n",
       "    </tr>\n",
       "    <tr>\n",
       "      <th>4</th>\n",
       "      <td>Next_UK_Zenith</td>\n",
       "      <td>Active</td>\n",
       "      <td>NaN</td>\n",
       "      <td>1.0</td>\n",
       "      <td>GB</td>\n",
       "      <td>Tablet</td>\n",
       "      <td>GBP</td>\n",
       "      <td>53025.0</td>\n",
       "      <td>48877.0</td>\n",
       "      <td>25243.0</td>\n",
       "      <td>49.0</td>\n",
       "      <td>125.552097</td>\n",
       "    </tr>\n",
       "  </tbody>\n",
       "</table>\n",
       "</div>"
      ],
      "text/plain": [
       "       Advertiser Advertiser Status  Advertiser Integration Code  Time of Day  \\\n",
       "0  Next_UK_Zenith            Active                          NaN          0.0   \n",
       "1  Next_UK_Zenith            Active                          NaN          0.0   \n",
       "2  Next_UK_Zenith            Active                          NaN          1.0   \n",
       "3  Next_UK_Zenith            Active                          NaN          1.0   \n",
       "4  Next_UK_Zenith            Active                          NaN          1.0   \n",
       "\n",
       "  Country Device Type Advertiser Currency  Impressions  \\\n",
       "0      DE     Desktop                 GBP      16033.0   \n",
       "1      HK     Desktop                 GBP      24158.0   \n",
       "2      DE     Desktop                 GBP      31903.0   \n",
       "3      GB     Desktop                 GBP      94044.0   \n",
       "4      GB      Tablet                 GBP      53025.0   \n",
       "\n",
       "   Active View: Measurable Impressions  Active View: Viewable Impressions  \\\n",
       "0                              15214.0                             4048.0   \n",
       "1                              23581.0                             9229.0   \n",
       "2                              30341.0                             7678.0   \n",
       "3                              92256.0                            57478.0   \n",
       "4                              48877.0                            25243.0   \n",
       "\n",
       "   Clicks  Revenue (Adv Currency)  \n",
       "0     3.0               15.064673  \n",
       "1    19.0               51.533391  \n",
       "2     6.0               25.592858  \n",
       "3   157.0              301.121433  \n",
       "4    49.0              125.552097  "
      ]
     },
     "execution_count": 8,
     "metadata": {},
     "output_type": "execute_result"
    }
   ],
   "source": [
    "ndata.head()"
   ]
  },
  {
   "cell_type": "code",
   "execution_count": 9,
   "metadata": {
    "collapsed": false
   },
   "outputs": [],
   "source": [
    "ndata = ndata.drop([\"Advertiser Status\", \"Advertiser Integration Code\"], 1)"
   ]
  },
  {
   "cell_type": "code",
   "execution_count": 10,
   "metadata": {
    "collapsed": false
   },
   "outputs": [
    {
     "data": {
      "text/html": [
       "<div>\n",
       "<table border=\"1\" class=\"dataframe\">\n",
       "  <thead>\n",
       "    <tr style=\"text-align: right;\">\n",
       "      <th></th>\n",
       "      <th>Advertiser</th>\n",
       "      <th>Time of Day</th>\n",
       "      <th>Country</th>\n",
       "      <th>Device Type</th>\n",
       "      <th>Advertiser Currency</th>\n",
       "      <th>Impressions</th>\n",
       "      <th>Active View: Measurable Impressions</th>\n",
       "      <th>Active View: Viewable Impressions</th>\n",
       "      <th>Clicks</th>\n",
       "      <th>Revenue (Adv Currency)</th>\n",
       "    </tr>\n",
       "  </thead>\n",
       "  <tbody>\n",
       "    <tr>\n",
       "      <th>0</th>\n",
       "      <td>Next_UK_Zenith</td>\n",
       "      <td>0.0</td>\n",
       "      <td>DE</td>\n",
       "      <td>Desktop</td>\n",
       "      <td>GBP</td>\n",
       "      <td>16033.0</td>\n",
       "      <td>15214.0</td>\n",
       "      <td>4048.0</td>\n",
       "      <td>3.0</td>\n",
       "      <td>15.064673</td>\n",
       "    </tr>\n",
       "    <tr>\n",
       "      <th>1</th>\n",
       "      <td>Next_UK_Zenith</td>\n",
       "      <td>0.0</td>\n",
       "      <td>HK</td>\n",
       "      <td>Desktop</td>\n",
       "      <td>GBP</td>\n",
       "      <td>24158.0</td>\n",
       "      <td>23581.0</td>\n",
       "      <td>9229.0</td>\n",
       "      <td>19.0</td>\n",
       "      <td>51.533391</td>\n",
       "    </tr>\n",
       "    <tr>\n",
       "      <th>2</th>\n",
       "      <td>Next_UK_Zenith</td>\n",
       "      <td>1.0</td>\n",
       "      <td>DE</td>\n",
       "      <td>Desktop</td>\n",
       "      <td>GBP</td>\n",
       "      <td>31903.0</td>\n",
       "      <td>30341.0</td>\n",
       "      <td>7678.0</td>\n",
       "      <td>6.0</td>\n",
       "      <td>25.592858</td>\n",
       "    </tr>\n",
       "    <tr>\n",
       "      <th>3</th>\n",
       "      <td>Next_UK_Zenith</td>\n",
       "      <td>1.0</td>\n",
       "      <td>GB</td>\n",
       "      <td>Desktop</td>\n",
       "      <td>GBP</td>\n",
       "      <td>94044.0</td>\n",
       "      <td>92256.0</td>\n",
       "      <td>57478.0</td>\n",
       "      <td>157.0</td>\n",
       "      <td>301.121433</td>\n",
       "    </tr>\n",
       "    <tr>\n",
       "      <th>4</th>\n",
       "      <td>Next_UK_Zenith</td>\n",
       "      <td>1.0</td>\n",
       "      <td>GB</td>\n",
       "      <td>Tablet</td>\n",
       "      <td>GBP</td>\n",
       "      <td>53025.0</td>\n",
       "      <td>48877.0</td>\n",
       "      <td>25243.0</td>\n",
       "      <td>49.0</td>\n",
       "      <td>125.552097</td>\n",
       "    </tr>\n",
       "  </tbody>\n",
       "</table>\n",
       "</div>"
      ],
      "text/plain": [
       "       Advertiser  Time of Day Country Device Type Advertiser Currency  \\\n",
       "0  Next_UK_Zenith          0.0      DE     Desktop                 GBP   \n",
       "1  Next_UK_Zenith          0.0      HK     Desktop                 GBP   \n",
       "2  Next_UK_Zenith          1.0      DE     Desktop                 GBP   \n",
       "3  Next_UK_Zenith          1.0      GB     Desktop                 GBP   \n",
       "4  Next_UK_Zenith          1.0      GB      Tablet                 GBP   \n",
       "\n",
       "   Impressions  Active View: Measurable Impressions  \\\n",
       "0      16033.0                              15214.0   \n",
       "1      24158.0                              23581.0   \n",
       "2      31903.0                              30341.0   \n",
       "3      94044.0                              92256.0   \n",
       "4      53025.0                              48877.0   \n",
       "\n",
       "   Active View: Viewable Impressions  Clicks  Revenue (Adv Currency)  \n",
       "0                             4048.0     3.0               15.064673  \n",
       "1                             9229.0    19.0               51.533391  \n",
       "2                             7678.0     6.0               25.592858  \n",
       "3                            57478.0   157.0              301.121433  \n",
       "4                            25243.0    49.0              125.552097  "
      ]
     },
     "execution_count": 10,
     "metadata": {},
     "output_type": "execute_result"
    }
   ],
   "source": [
    "ndata.head()"
   ]
  },
  {
   "cell_type": "code",
   "execution_count": 11,
   "metadata": {
    "collapsed": false
   },
   "outputs": [
    {
     "data": {
      "text/plain": [
       "Index(['Advertiser', 'Time of Day', 'Country', 'Device Type',\n",
       "       'Advertiser Currency', 'Impressions',\n",
       "       'Active View: Measurable Impressions',\n",
       "       'Active View: Viewable Impressions', 'Clicks',\n",
       "       'Revenue (Adv Currency)'],\n",
       "      dtype='object')"
      ]
     },
     "execution_count": 11,
     "metadata": {},
     "output_type": "execute_result"
    }
   ],
   "source": [
    "ndata.columns"
   ]
  },
  {
   "cell_type": "code",
   "execution_count": 12,
   "metadata": {
    "collapsed": true
   },
   "outputs": [],
   "source": [
    "ndata.columns=['Advertiser', 'Time of Day', 'Country', 'Device Type',\n",
    "       'Advertiser Currency', 'Impressions',\n",
    "       'Active View: Measurable Impressions',\n",
    "       'Active View: Viewable Impressions', 'Clicks',\n",
    "       'Spend']"
   ]
  },
  {
   "cell_type": "code",
   "execution_count": 13,
   "metadata": {
    "collapsed": false
   },
   "outputs": [
    {
     "data": {
      "text/html": [
       "<div>\n",
       "<table border=\"1\" class=\"dataframe\">\n",
       "  <thead>\n",
       "    <tr style=\"text-align: right;\">\n",
       "      <th></th>\n",
       "      <th>Advertiser</th>\n",
       "      <th>Time of Day</th>\n",
       "      <th>Country</th>\n",
       "      <th>Device Type</th>\n",
       "      <th>Advertiser Currency</th>\n",
       "      <th>Impressions</th>\n",
       "      <th>Active View: Measurable Impressions</th>\n",
       "      <th>Active View: Viewable Impressions</th>\n",
       "      <th>Clicks</th>\n",
       "      <th>Spend</th>\n",
       "    </tr>\n",
       "  </thead>\n",
       "  <tbody>\n",
       "    <tr>\n",
       "      <th>0</th>\n",
       "      <td>Next_UK_Zenith</td>\n",
       "      <td>0.0</td>\n",
       "      <td>DE</td>\n",
       "      <td>Desktop</td>\n",
       "      <td>GBP</td>\n",
       "      <td>16033.0</td>\n",
       "      <td>15214.0</td>\n",
       "      <td>4048.0</td>\n",
       "      <td>3.0</td>\n",
       "      <td>15.064673</td>\n",
       "    </tr>\n",
       "    <tr>\n",
       "      <th>1</th>\n",
       "      <td>Next_UK_Zenith</td>\n",
       "      <td>0.0</td>\n",
       "      <td>HK</td>\n",
       "      <td>Desktop</td>\n",
       "      <td>GBP</td>\n",
       "      <td>24158.0</td>\n",
       "      <td>23581.0</td>\n",
       "      <td>9229.0</td>\n",
       "      <td>19.0</td>\n",
       "      <td>51.533391</td>\n",
       "    </tr>\n",
       "    <tr>\n",
       "      <th>2</th>\n",
       "      <td>Next_UK_Zenith</td>\n",
       "      <td>1.0</td>\n",
       "      <td>DE</td>\n",
       "      <td>Desktop</td>\n",
       "      <td>GBP</td>\n",
       "      <td>31903.0</td>\n",
       "      <td>30341.0</td>\n",
       "      <td>7678.0</td>\n",
       "      <td>6.0</td>\n",
       "      <td>25.592858</td>\n",
       "    </tr>\n",
       "    <tr>\n",
       "      <th>3</th>\n",
       "      <td>Next_UK_Zenith</td>\n",
       "      <td>1.0</td>\n",
       "      <td>GB</td>\n",
       "      <td>Desktop</td>\n",
       "      <td>GBP</td>\n",
       "      <td>94044.0</td>\n",
       "      <td>92256.0</td>\n",
       "      <td>57478.0</td>\n",
       "      <td>157.0</td>\n",
       "      <td>301.121433</td>\n",
       "    </tr>\n",
       "    <tr>\n",
       "      <th>4</th>\n",
       "      <td>Next_UK_Zenith</td>\n",
       "      <td>1.0</td>\n",
       "      <td>GB</td>\n",
       "      <td>Tablet</td>\n",
       "      <td>GBP</td>\n",
       "      <td>53025.0</td>\n",
       "      <td>48877.0</td>\n",
       "      <td>25243.0</td>\n",
       "      <td>49.0</td>\n",
       "      <td>125.552097</td>\n",
       "    </tr>\n",
       "  </tbody>\n",
       "</table>\n",
       "</div>"
      ],
      "text/plain": [
       "       Advertiser  Time of Day Country Device Type Advertiser Currency  \\\n",
       "0  Next_UK_Zenith          0.0      DE     Desktop                 GBP   \n",
       "1  Next_UK_Zenith          0.0      HK     Desktop                 GBP   \n",
       "2  Next_UK_Zenith          1.0      DE     Desktop                 GBP   \n",
       "3  Next_UK_Zenith          1.0      GB     Desktop                 GBP   \n",
       "4  Next_UK_Zenith          1.0      GB      Tablet                 GBP   \n",
       "\n",
       "   Impressions  Active View: Measurable Impressions  \\\n",
       "0      16033.0                              15214.0   \n",
       "1      24158.0                              23581.0   \n",
       "2      31903.0                              30341.0   \n",
       "3      94044.0                              92256.0   \n",
       "4      53025.0                              48877.0   \n",
       "\n",
       "   Active View: Viewable Impressions  Clicks       Spend  \n",
       "0                             4048.0     3.0   15.064673  \n",
       "1                             9229.0    19.0   51.533391  \n",
       "2                             7678.0     6.0   25.592858  \n",
       "3                            57478.0   157.0  301.121433  \n",
       "4                            25243.0    49.0  125.552097  "
      ]
     },
     "execution_count": 13,
     "metadata": {},
     "output_type": "execute_result"
    }
   ],
   "source": [
    "ndata.head()"
   ]
  },
  {
   "cell_type": "code",
   "execution_count": 14,
   "metadata": {
    "collapsed": true
   },
   "outputs": [],
   "source": [
    "ndata.columns=['Advertiser', 'TOD', 'Country', 'DeviceType',\n",
    "       'AdvertiserCurrency', 'Impressions',\n",
    "       'MeasurableImp',\n",
    "       'ViewableImp', 'Clicks',\n",
    "       'Spend']"
   ]
  },
  {
   "cell_type": "code",
   "execution_count": 15,
   "metadata": {
    "collapsed": false
   },
   "outputs": [],
   "source": [
    "ndata[\"CTR\"]= ndata.Clicks / ndata.Impressions"
   ]
  },
  {
   "cell_type": "code",
   "execution_count": 16,
   "metadata": {
    "collapsed": false
   },
   "outputs": [
    {
     "data": {
      "text/html": [
       "<div>\n",
       "<table border=\"1\" class=\"dataframe\">\n",
       "  <thead>\n",
       "    <tr style=\"text-align: right;\">\n",
       "      <th></th>\n",
       "      <th>Advertiser</th>\n",
       "      <th>TOD</th>\n",
       "      <th>Country</th>\n",
       "      <th>DeviceType</th>\n",
       "      <th>AdvertiserCurrency</th>\n",
       "      <th>Impressions</th>\n",
       "      <th>MeasurableImp</th>\n",
       "      <th>ViewableImp</th>\n",
       "      <th>Clicks</th>\n",
       "      <th>Spend</th>\n",
       "      <th>CTR</th>\n",
       "    </tr>\n",
       "  </thead>\n",
       "  <tbody>\n",
       "    <tr>\n",
       "      <th>0</th>\n",
       "      <td>Next_UK_Zenith</td>\n",
       "      <td>0.0</td>\n",
       "      <td>DE</td>\n",
       "      <td>Desktop</td>\n",
       "      <td>GBP</td>\n",
       "      <td>16033.0</td>\n",
       "      <td>15214.0</td>\n",
       "      <td>4048.0</td>\n",
       "      <td>3.0</td>\n",
       "      <td>15.064673</td>\n",
       "      <td>0.000187</td>\n",
       "    </tr>\n",
       "    <tr>\n",
       "      <th>1</th>\n",
       "      <td>Next_UK_Zenith</td>\n",
       "      <td>0.0</td>\n",
       "      <td>HK</td>\n",
       "      <td>Desktop</td>\n",
       "      <td>GBP</td>\n",
       "      <td>24158.0</td>\n",
       "      <td>23581.0</td>\n",
       "      <td>9229.0</td>\n",
       "      <td>19.0</td>\n",
       "      <td>51.533391</td>\n",
       "      <td>0.000786</td>\n",
       "    </tr>\n",
       "    <tr>\n",
       "      <th>2</th>\n",
       "      <td>Next_UK_Zenith</td>\n",
       "      <td>1.0</td>\n",
       "      <td>DE</td>\n",
       "      <td>Desktop</td>\n",
       "      <td>GBP</td>\n",
       "      <td>31903.0</td>\n",
       "      <td>30341.0</td>\n",
       "      <td>7678.0</td>\n",
       "      <td>6.0</td>\n",
       "      <td>25.592858</td>\n",
       "      <td>0.000188</td>\n",
       "    </tr>\n",
       "    <tr>\n",
       "      <th>3</th>\n",
       "      <td>Next_UK_Zenith</td>\n",
       "      <td>1.0</td>\n",
       "      <td>GB</td>\n",
       "      <td>Desktop</td>\n",
       "      <td>GBP</td>\n",
       "      <td>94044.0</td>\n",
       "      <td>92256.0</td>\n",
       "      <td>57478.0</td>\n",
       "      <td>157.0</td>\n",
       "      <td>301.121433</td>\n",
       "      <td>0.001669</td>\n",
       "    </tr>\n",
       "    <tr>\n",
       "      <th>4</th>\n",
       "      <td>Next_UK_Zenith</td>\n",
       "      <td>1.0</td>\n",
       "      <td>GB</td>\n",
       "      <td>Tablet</td>\n",
       "      <td>GBP</td>\n",
       "      <td>53025.0</td>\n",
       "      <td>48877.0</td>\n",
       "      <td>25243.0</td>\n",
       "      <td>49.0</td>\n",
       "      <td>125.552097</td>\n",
       "      <td>0.000924</td>\n",
       "    </tr>\n",
       "  </tbody>\n",
       "</table>\n",
       "</div>"
      ],
      "text/plain": [
       "       Advertiser  TOD Country DeviceType AdvertiserCurrency  Impressions  \\\n",
       "0  Next_UK_Zenith  0.0      DE    Desktop                GBP      16033.0   \n",
       "1  Next_UK_Zenith  0.0      HK    Desktop                GBP      24158.0   \n",
       "2  Next_UK_Zenith  1.0      DE    Desktop                GBP      31903.0   \n",
       "3  Next_UK_Zenith  1.0      GB    Desktop                GBP      94044.0   \n",
       "4  Next_UK_Zenith  1.0      GB     Tablet                GBP      53025.0   \n",
       "\n",
       "   MeasurableImp  ViewableImp  Clicks       Spend       CTR  \n",
       "0        15214.0       4048.0     3.0   15.064673  0.000187  \n",
       "1        23581.0       9229.0    19.0   51.533391  0.000786  \n",
       "2        30341.0       7678.0     6.0   25.592858  0.000188  \n",
       "3        92256.0      57478.0   157.0  301.121433  0.001669  \n",
       "4        48877.0      25243.0    49.0  125.552097  0.000924  "
      ]
     },
     "execution_count": 16,
     "metadata": {},
     "output_type": "execute_result"
    }
   ],
   "source": [
    "ndata.head()"
   ]
  },
  {
   "cell_type": "code",
   "execution_count": 17,
   "metadata": {
    "collapsed": false
   },
   "outputs": [
    {
     "data": {
      "text/html": [
       "<div>\n",
       "<table border=\"1\" class=\"dataframe\">\n",
       "  <thead>\n",
       "    <tr style=\"text-align: right;\">\n",
       "      <th></th>\n",
       "      <th>Advertiser</th>\n",
       "      <th>TOD</th>\n",
       "      <th>Country</th>\n",
       "      <th>DeviceType</th>\n",
       "      <th>AdvertiserCurrency</th>\n",
       "      <th>Impressions</th>\n",
       "      <th>MeasurableImp</th>\n",
       "      <th>ViewableImp</th>\n",
       "      <th>Clicks</th>\n",
       "      <th>Spend</th>\n",
       "      <th>CTR</th>\n",
       "    </tr>\n",
       "  </thead>\n",
       "  <tbody>\n",
       "    <tr>\n",
       "      <th>1</th>\n",
       "      <td>Next_UK_Zenith</td>\n",
       "      <td>0.0</td>\n",
       "      <td>HK</td>\n",
       "      <td>Desktop</td>\n",
       "      <td>GBP</td>\n",
       "      <td>24158.0</td>\n",
       "      <td>23581.0</td>\n",
       "      <td>9229.0</td>\n",
       "      <td>19.0</td>\n",
       "      <td>51.533391</td>\n",
       "      <td>0.000786</td>\n",
       "    </tr>\n",
       "  </tbody>\n",
       "</table>\n",
       "</div>"
      ],
      "text/plain": [
       "       Advertiser  TOD Country DeviceType AdvertiserCurrency  Impressions  \\\n",
       "1  Next_UK_Zenith  0.0      HK    Desktop                GBP      24158.0   \n",
       "\n",
       "   MeasurableImp  ViewableImp  Clicks      Spend       CTR  \n",
       "1        23581.0       9229.0    19.0  51.533391  0.000786  "
      ]
     },
     "execution_count": 17,
     "metadata": {},
     "output_type": "execute_result"
    }
   ],
   "source": [
    "#extracting the second row\n",
    "ndata[1:2]"
   ]
  },
  {
   "cell_type": "code",
   "execution_count": 18,
   "metadata": {
    "collapsed": false
   },
   "outputs": [
    {
     "data": {
      "text/plain": [
       "9    33605.0\n",
       "Name: Impressions, dtype: float64"
      ]
     },
     "execution_count": 18,
     "metadata": {},
     "output_type": "execute_result"
    }
   ],
   "source": [
    "#extracting 10th row's impressions\n",
    "ndata[9:10][\"Impressions\"]"
   ]
  },
  {
   "cell_type": "code",
   "execution_count": 19,
   "metadata": {
    "collapsed": false
   },
   "outputs": [
    {
     "name": "stdout",
     "output_type": "stream",
     "text": [
      "<class 'pandas.core.frame.DataFrame'>\n",
      "RangeIndex: 349 entries, 0 to 348\n",
      "Data columns (total 11 columns):\n",
      "Advertiser            348 non-null object\n",
      "TOD                   336 non-null float64\n",
      "Country               336 non-null object\n",
      "DeviceType            336 non-null object\n",
      "AdvertiserCurrency    336 non-null object\n",
      "Impressions           337 non-null float64\n",
      "MeasurableImp         337 non-null float64\n",
      "ViewableImp           337 non-null float64\n",
      "Clicks                337 non-null float64\n",
      "Spend                 337 non-null float64\n",
      "CTR                   337 non-null float64\n",
      "dtypes: float64(7), object(4)\n",
      "memory usage: 30.1+ KB\n"
     ]
    }
   ],
   "source": [
    "ndata.info()"
   ]
  },
  {
   "cell_type": "code",
   "execution_count": 20,
   "metadata": {
    "collapsed": true
   },
   "outputs": [],
   "source": [
    "ndata[\"Viewability\"]= ndata.ViewableImp / ndata.MeasurableImp"
   ]
  },
  {
   "cell_type": "code",
   "execution_count": 21,
   "metadata": {
    "collapsed": false
   },
   "outputs": [
    {
     "data": {
      "text/html": [
       "<div>\n",
       "<table border=\"1\" class=\"dataframe\">\n",
       "  <thead>\n",
       "    <tr style=\"text-align: right;\">\n",
       "      <th></th>\n",
       "      <th>Advertiser</th>\n",
       "      <th>TOD</th>\n",
       "      <th>Country</th>\n",
       "      <th>DeviceType</th>\n",
       "      <th>AdvertiserCurrency</th>\n",
       "      <th>Impressions</th>\n",
       "      <th>MeasurableImp</th>\n",
       "      <th>ViewableImp</th>\n",
       "      <th>Clicks</th>\n",
       "      <th>Spend</th>\n",
       "      <th>CTR</th>\n",
       "      <th>Viewability</th>\n",
       "    </tr>\n",
       "  </thead>\n",
       "  <tbody>\n",
       "    <tr>\n",
       "      <th>0</th>\n",
       "      <td>Next_UK_Zenith</td>\n",
       "      <td>0.0</td>\n",
       "      <td>DE</td>\n",
       "      <td>Desktop</td>\n",
       "      <td>GBP</td>\n",
       "      <td>16033.0</td>\n",
       "      <td>15214.0</td>\n",
       "      <td>4048.0</td>\n",
       "      <td>3.0</td>\n",
       "      <td>15.064673</td>\n",
       "      <td>0.000187</td>\n",
       "      <td>0.266071</td>\n",
       "    </tr>\n",
       "    <tr>\n",
       "      <th>1</th>\n",
       "      <td>Next_UK_Zenith</td>\n",
       "      <td>0.0</td>\n",
       "      <td>HK</td>\n",
       "      <td>Desktop</td>\n",
       "      <td>GBP</td>\n",
       "      <td>24158.0</td>\n",
       "      <td>23581.0</td>\n",
       "      <td>9229.0</td>\n",
       "      <td>19.0</td>\n",
       "      <td>51.533391</td>\n",
       "      <td>0.000786</td>\n",
       "      <td>0.391374</td>\n",
       "    </tr>\n",
       "    <tr>\n",
       "      <th>2</th>\n",
       "      <td>Next_UK_Zenith</td>\n",
       "      <td>1.0</td>\n",
       "      <td>DE</td>\n",
       "      <td>Desktop</td>\n",
       "      <td>GBP</td>\n",
       "      <td>31903.0</td>\n",
       "      <td>30341.0</td>\n",
       "      <td>7678.0</td>\n",
       "      <td>6.0</td>\n",
       "      <td>25.592858</td>\n",
       "      <td>0.000188</td>\n",
       "      <td>0.253057</td>\n",
       "    </tr>\n",
       "    <tr>\n",
       "      <th>3</th>\n",
       "      <td>Next_UK_Zenith</td>\n",
       "      <td>1.0</td>\n",
       "      <td>GB</td>\n",
       "      <td>Desktop</td>\n",
       "      <td>GBP</td>\n",
       "      <td>94044.0</td>\n",
       "      <td>92256.0</td>\n",
       "      <td>57478.0</td>\n",
       "      <td>157.0</td>\n",
       "      <td>301.121433</td>\n",
       "      <td>0.001669</td>\n",
       "      <td>0.623027</td>\n",
       "    </tr>\n",
       "    <tr>\n",
       "      <th>4</th>\n",
       "      <td>Next_UK_Zenith</td>\n",
       "      <td>1.0</td>\n",
       "      <td>GB</td>\n",
       "      <td>Tablet</td>\n",
       "      <td>GBP</td>\n",
       "      <td>53025.0</td>\n",
       "      <td>48877.0</td>\n",
       "      <td>25243.0</td>\n",
       "      <td>49.0</td>\n",
       "      <td>125.552097</td>\n",
       "      <td>0.000924</td>\n",
       "      <td>0.516460</td>\n",
       "    </tr>\n",
       "  </tbody>\n",
       "</table>\n",
       "</div>"
      ],
      "text/plain": [
       "       Advertiser  TOD Country DeviceType AdvertiserCurrency  Impressions  \\\n",
       "0  Next_UK_Zenith  0.0      DE    Desktop                GBP      16033.0   \n",
       "1  Next_UK_Zenith  0.0      HK    Desktop                GBP      24158.0   \n",
       "2  Next_UK_Zenith  1.0      DE    Desktop                GBP      31903.0   \n",
       "3  Next_UK_Zenith  1.0      GB    Desktop                GBP      94044.0   \n",
       "4  Next_UK_Zenith  1.0      GB     Tablet                GBP      53025.0   \n",
       "\n",
       "   MeasurableImp  ViewableImp  Clicks       Spend       CTR  Viewability  \n",
       "0        15214.0       4048.0     3.0   15.064673  0.000187     0.266071  \n",
       "1        23581.0       9229.0    19.0   51.533391  0.000786     0.391374  \n",
       "2        30341.0       7678.0     6.0   25.592858  0.000188     0.253057  \n",
       "3        92256.0      57478.0   157.0  301.121433  0.001669     0.623027  \n",
       "4        48877.0      25243.0    49.0  125.552097  0.000924     0.516460  "
      ]
     },
     "execution_count": 21,
     "metadata": {},
     "output_type": "execute_result"
    }
   ],
   "source": [
    "ndata.head()"
   ]
  },
  {
   "cell_type": "code",
   "execution_count": 22,
   "metadata": {
    "collapsed": false
   },
   "outputs": [
    {
     "data": {
      "text/plain": [
       "28123.0"
      ]
     },
     "execution_count": 22,
     "metadata": {},
     "output_type": "execute_result"
    }
   ],
   "source": [
    "#another way to extract 10th rows's impressions\n",
    "ndata.at[10, \"Impressions\"]"
   ]
  },
  {
   "cell_type": "code",
   "execution_count": 23,
   "metadata": {
    "collapsed": false
   },
   "outputs": [],
   "source": [
    "#set up filter \n",
    "impFilter = ndata.Impressions > 10001"
   ]
  },
  {
   "cell_type": "code",
   "execution_count": 24,
   "metadata": {
    "collapsed": false
   },
   "outputs": [],
   "source": [
    "ctrFilter = ndata.CTR > 0.0010"
   ]
  },
  {
   "cell_type": "code",
   "execution_count": 25,
   "metadata": {
    "collapsed": false
   },
   "outputs": [
    {
     "data": {
      "text/plain": [
       "array([ 0.27633045,  0.30861336,  0.33856359,  0.34031103,  0.3435429 ,\n",
       "        0.3446477 ,  0.34595697,  0.34933812,  0.34966294,  0.34980642,\n",
       "        0.35152258,  0.35522845,  0.36728703,  0.36791506,  0.36811345,\n",
       "        0.36978279,  0.36985275,  0.3730172 ,  0.37310773,  0.3737752 ,\n",
       "        0.37483266,  0.3756209 ,  0.37724639,  0.37850822,  0.38497518,\n",
       "        0.38591153,  0.38603418,  0.38796227,  0.3892757 ,  0.39409011,\n",
       "        0.39432931,  0.39838539,  0.39975988,  0.40780756,  0.41029272,\n",
       "        0.4106567 ,  0.41093524,  0.41321433,  0.41526442,  0.41634366,\n",
       "        0.41649185,  0.41792333,  0.41803742,  0.41812206,  0.41908045,\n",
       "        0.41945183,  0.4219461 ,  0.42249865,  0.42441814,  0.42446313,\n",
       "        0.42542283,  0.4265885 ,  0.42692289,  0.42795578,  0.42876209,\n",
       "        0.42881372,  0.42953405,  0.43045759,  0.43046365,  0.43625929,\n",
       "        0.43633807,  0.43774715,  0.43859408,  0.43980134,  0.43995648,\n",
       "        0.44121794,  0.44150173,  0.4420469 ,  0.44224042,  0.44474736,\n",
       "        0.44492366,  0.44496799,  0.44546017,  0.44570729,  0.44706903,\n",
       "        0.44749403,  0.44778451,  0.44787585,  0.44797086,  0.44846295,\n",
       "        0.44914362,  0.44982025,  0.449878  ,  0.45073461,  0.45134264,\n",
       "        0.45203176,  0.45247434,  0.45281087,  0.45382854,  0.45462391,\n",
       "        0.45535179,  0.45581525,  0.45791212,  0.45806665,  0.45861526,\n",
       "        0.45893536,  0.45964373,  0.4598179 ,  0.46148213,  0.46208279,\n",
       "        0.46250791,  0.46257042,  0.46422254,  0.46675997,  0.46694206,\n",
       "        0.46799909,  0.46890943,  0.4694035 ,  0.47258257,  0.4741076 ,\n",
       "        0.47624743,  0.47762937,  0.47777367,  0.48001289,  0.48002443,\n",
       "        0.48073874,  0.48212242,  0.48215813,  0.48365751,  0.48415752,\n",
       "        0.48453503,  0.48870833,  0.48983355,  0.49114322,  0.49812722,\n",
       "        0.50564795,  0.50779282,  0.51047563,  0.60129759,  0.60362964,\n",
       "        0.60407119,  0.60638957,  0.60847348,  0.61026479,  0.61355018,\n",
       "        0.61384728,  0.61414779,  0.61649862,  0.62149662,  0.62302723,\n",
       "        0.62487124,  0.63180212])"
      ]
     },
     "execution_count": 25,
     "metadata": {},
     "output_type": "execute_result"
    }
   ],
   "source": [
    "np.unique(ndata[impFilter & ctrFilter][\"Viewability\"])"
   ]
  },
  {
   "cell_type": "code",
   "execution_count": 26,
   "metadata": {
    "collapsed": false
   },
   "outputs": [],
   "source": [
    "ndata.Country = ndata.Country.astype(\"category\")\n",
    "ndata.DeviceType = ndata.DeviceType.astype(\"category\")\n",
    "ndata.AdvertiserCurrency = ndata.AdvertiserCurrency.astype(\"category\")"
   ]
  },
  {
   "cell_type": "code",
   "execution_count": 27,
   "metadata": {
    "collapsed": false
   },
   "outputs": [
    {
     "name": "stdout",
     "output_type": "stream",
     "text": [
      "<class 'pandas.core.frame.DataFrame'>\n",
      "RangeIndex: 349 entries, 0 to 348\n",
      "Data columns (total 12 columns):\n",
      "Advertiser            348 non-null object\n",
      "TOD                   336 non-null float64\n",
      "Country               336 non-null category\n",
      "DeviceType            336 non-null category\n",
      "AdvertiserCurrency    336 non-null category\n",
      "Impressions           337 non-null float64\n",
      "MeasurableImp         337 non-null float64\n",
      "ViewableImp           337 non-null float64\n",
      "Clicks                337 non-null float64\n",
      "Spend                 337 non-null float64\n",
      "CTR                   337 non-null float64\n",
      "Viewability           337 non-null float64\n",
      "dtypes: category(3), float64(8), object(1)\n",
      "memory usage: 25.8+ KB\n"
     ]
    }
   ],
   "source": [
    "ndata.info()"
   ]
  },
  {
   "cell_type": "code",
   "execution_count": 28,
   "metadata": {
    "collapsed": false
   },
   "outputs": [
    {
     "data": {
      "text/plain": [
       "pandas.core.series.Series"
      ]
     },
     "execution_count": 28,
     "metadata": {},
     "output_type": "execute_result"
    }
   ],
   "source": [
    "type(ndata.Country)"
   ]
  },
  {
   "cell_type": "code",
   "execution_count": 29,
   "metadata": {
    "collapsed": false
   },
   "outputs": [
    {
     "data": {
      "text/plain": [
       "[DE, HK, GB, IL, TW, ..., AU, IE, UA, SK, NaN]\n",
       "Length: 13\n",
       "Categories (12, object): [DE, HK, GB, IL, ..., AU, IE, UA, SK]"
      ]
     },
     "execution_count": 29,
     "metadata": {},
     "output_type": "execute_result"
    }
   ],
   "source": [
    "ndata.Country.unique()"
   ]
  },
  {
   "cell_type": "code",
   "execution_count": 30,
   "metadata": {
    "collapsed": false
   },
   "outputs": [
    {
     "data": {
      "text/plain": [
       "[Desktop, Tablet, Smart Phone, NaN]\n",
       "Categories (3, object): [Desktop, Tablet, Smart Phone]"
      ]
     },
     "execution_count": 30,
     "metadata": {},
     "output_type": "execute_result"
    }
   ],
   "source": [
    "ndata.DeviceType.unique()"
   ]
  },
  {
   "cell_type": "code",
   "execution_count": 31,
   "metadata": {
    "collapsed": true
   },
   "outputs": [],
   "source": [
    "desktopFilter = ndata.DeviceType == \"Desktop\""
   ]
  },
  {
   "cell_type": "code",
   "execution_count": 32,
   "metadata": {
    "collapsed": false
   },
   "outputs": [
    {
     "data": {
      "text/plain": [
       "0      0.000187\n",
       "1      0.000786\n",
       "2      0.000188\n",
       "3      0.001669\n",
       "6      0.001575\n",
       "7      0.000824\n",
       "8      0.001122\n",
       "9      0.000417\n",
       "10     0.001351\n",
       "11     0.001015\n",
       "12     0.000780\n",
       "14     0.000702\n",
       "15     0.000791\n",
       "16     0.001275\n",
       "17     0.000824\n",
       "19     0.000932\n",
       "20     0.001457\n",
       "21     0.000931\n",
       "22     0.000877\n",
       "23     0.001073\n",
       "24     0.001007\n",
       "26     0.000469\n",
       "27     0.001316\n",
       "28     0.001097\n",
       "29     0.000314\n",
       "30     0.002233\n",
       "31     0.000000\n",
       "32     0.001972\n",
       "33     0.001870\n",
       "34     0.001536\n",
       "         ...   \n",
       "301    0.000805\n",
       "302    0.002301\n",
       "303    0.000889\n",
       "304    0.001324\n",
       "305    0.001221\n",
       "306    0.000196\n",
       "309    0.004643\n",
       "310    0.000539\n",
       "311    0.001942\n",
       "312    0.000186\n",
       "314    0.001352\n",
       "315    0.000799\n",
       "316    0.000828\n",
       "317    0.000644\n",
       "318    0.000901\n",
       "319    0.001577\n",
       "320    0.001551\n",
       "321    0.002207\n",
       "322    0.000729\n",
       "323    0.000280\n",
       "324    0.001783\n",
       "326    0.001962\n",
       "327    0.000883\n",
       "328    0.001573\n",
       "329    0.000927\n",
       "330    0.000898\n",
       "331    0.000754\n",
       "332    0.002131\n",
       "334    0.000986\n",
       "335    0.000977\n",
       "Name: CTR, dtype: float64"
      ]
     },
     "execution_count": 32,
     "metadata": {},
     "output_type": "execute_result"
    }
   ],
   "source": [
    "ndata.CTR[desktopFilter]"
   ]
  },
  {
   "cell_type": "code",
   "execution_count": 33,
   "metadata": {
    "collapsed": true
   },
   "outputs": [],
   "source": [
    "import seaborn as sns\n",
    "%matplotlib inline"
   ]
  },
  {
   "cell_type": "code",
   "execution_count": 34,
   "metadata": {
    "collapsed": false
   },
   "outputs": [
    {
     "data": {
      "text/plain": [
       "<seaborn.axisgrid.FacetGrid at 0x116081be0>"
      ]
     },
     "execution_count": 34,
     "metadata": {},
     "output_type": "execute_result"
    },
    {
     "data": {
      "image/png": "[encoded data removed]",
      "text/plain": [
       "<matplotlib.figure.Figure at 0x116081c18>"
      ]
     },
     "metadata": {},
     "output_type": "display_data"
    }
   ],
   "source": [
    "sns.lmplot(data=ndata[desktopFilter], x=\"Viewability\", y=\"CTR\")"
   ]
  },
  {
   "cell_type": "code",
   "execution_count": 35,
   "metadata": {
    "collapsed": false
   },
   "outputs": [
    {
     "data": {
      "text/plain": [
       "<matplotlib.axes._subplots.AxesSubplot at 0x116becd30>"
      ]
     },
     "execution_count": 35,
     "metadata": {},
     "output_type": "execute_result"
    },
    {
     "data": {
      "image/png": "[encoded data removed]",
      "text/plain": [
       "<matplotlib.figure.Figure at 0x1006c5cf8>"
      ]
     },
     "metadata": {},
     "output_type": "display_data"
    }
   ],
   "source": [
    "sns.violinplot(data = ndata, x=\"Country\", y=\"CTR\")"
   ]
  },
  {
   "cell_type": "code",
   "execution_count": 36,
   "metadata": {
    "collapsed": false
   },
   "outputs": [
    {
     "data": {
      "text/plain": [
       "<matplotlib.axes._subplots.AxesSubplot at 0x11719fdd8>"
      ]
     },
     "execution_count": 36,
     "metadata": {},
     "output_type": "execute_result"
    },
    {
     "data": {
      "image/png": "[encoded data removed]",
      "text/plain": [
       "<matplotlib.figure.Figure at 0x1171b0668>"
      ]
     },
     "metadata": {},
     "output_type": "display_data"
    }
   ],
   "source": [
    "sns.boxplot(data = ndata, x=\"DeviceType\", y=\"CTR\")"
   ]
  },
  {
   "cell_type": "code",
   "execution_count": 37,
   "metadata": {
    "collapsed": false
   },
   "outputs": [
    {
     "name": "stdout",
     "output_type": "stream",
     "text": [
      "<class 'pandas.core.frame.DataFrame'>\n",
      "RangeIndex: 349 entries, 0 to 348\n",
      "Data columns (total 12 columns):\n",
      "Advertiser            348 non-null object\n",
      "TOD                   336 non-null float64\n",
      "Country               336 non-null category\n",
      "DeviceType            336 non-null category\n",
      "AdvertiserCurrency    336 non-null category\n",
      "Impressions           337 non-null float64\n",
      "MeasurableImp         337 non-null float64\n",
      "ViewableImp           337 non-null float64\n",
      "Clicks                337 non-null float64\n",
      "Spend                 337 non-null float64\n",
      "CTR                   337 non-null float64\n",
      "Viewability           337 non-null float64\n",
      "dtypes: category(3), float64(8), object(1)\n",
      "memory usage: 25.8+ KB\n"
     ]
    }
   ],
   "source": [
    "ndata.info()"
   ]
  },
  {
   "cell_type": "code",
   "execution_count": 38,
   "metadata": {
    "collapsed": false
   },
   "outputs": [
    {
     "data": {
      "text/html": [
       "<div>\n",
       "<table border=\"1\" class=\"dataframe\">\n",
       "  <thead>\n",
       "    <tr style=\"text-align: right;\">\n",
       "      <th></th>\n",
       "      <th>Advertiser</th>\n",
       "      <th>TOD</th>\n",
       "      <th>Country</th>\n",
       "      <th>DeviceType</th>\n",
       "      <th>AdvertiserCurrency</th>\n",
       "      <th>Impressions</th>\n",
       "      <th>MeasurableImp</th>\n",
       "      <th>ViewableImp</th>\n",
       "      <th>Clicks</th>\n",
       "      <th>Spend</th>\n",
       "      <th>CTR</th>\n",
       "      <th>Viewability</th>\n",
       "    </tr>\n",
       "  </thead>\n",
       "  <tbody>\n",
       "    <tr>\n",
       "      <th>329</th>\n",
       "      <td>Next_UK_Zenith</td>\n",
       "      <td>6.0</td>\n",
       "      <td>SK</td>\n",
       "      <td>Desktop</td>\n",
       "      <td>GBP</td>\n",
       "      <td>31278.0</td>\n",
       "      <td>30753.0</td>\n",
       "      <td>12280.0</td>\n",
       "      <td>29.0</td>\n",
       "      <td>41.617075</td>\n",
       "      <td>0.000927</td>\n",
       "      <td>0.399311</td>\n",
       "    </tr>\n",
       "    <tr>\n",
       "      <th>330</th>\n",
       "      <td>Next_UK_Zenith</td>\n",
       "      <td>6.0</td>\n",
       "      <td>UA</td>\n",
       "      <td>Desktop</td>\n",
       "      <td>GBP</td>\n",
       "      <td>368776.0</td>\n",
       "      <td>361207.0</td>\n",
       "      <td>152639.0</td>\n",
       "      <td>331.0</td>\n",
       "      <td>218.427750</td>\n",
       "      <td>0.000898</td>\n",
       "      <td>0.422580</td>\n",
       "    </tr>\n",
       "    <tr>\n",
       "      <th>331</th>\n",
       "      <td>Next_UK_Zenith</td>\n",
       "      <td>8.0</td>\n",
       "      <td>AU</td>\n",
       "      <td>Desktop</td>\n",
       "      <td>GBP</td>\n",
       "      <td>54393.0</td>\n",
       "      <td>53375.0</td>\n",
       "      <td>24957.0</td>\n",
       "      <td>41.0</td>\n",
       "      <td>109.464148</td>\n",
       "      <td>0.000754</td>\n",
       "      <td>0.467578</td>\n",
       "    </tr>\n",
       "    <tr>\n",
       "      <th>332</th>\n",
       "      <td>Next_UK_Zenith</td>\n",
       "      <td>9.0</td>\n",
       "      <td>CZ</td>\n",
       "      <td>Desktop</td>\n",
       "      <td>GBP</td>\n",
       "      <td>11734.0</td>\n",
       "      <td>11593.0</td>\n",
       "      <td>5158.0</td>\n",
       "      <td>25.0</td>\n",
       "      <td>34.568392</td>\n",
       "      <td>0.002131</td>\n",
       "      <td>0.444924</td>\n",
       "    </tr>\n",
       "    <tr>\n",
       "      <th>333</th>\n",
       "      <td>Next_UK_Zenith</td>\n",
       "      <td>9.0</td>\n",
       "      <td>GB</td>\n",
       "      <td>Smart Phone</td>\n",
       "      <td>GBP</td>\n",
       "      <td>357093.0</td>\n",
       "      <td>333585.0</td>\n",
       "      <td>138886.0</td>\n",
       "      <td>1481.0</td>\n",
       "      <td>985.659847</td>\n",
       "      <td>0.004147</td>\n",
       "      <td>0.416344</td>\n",
       "    </tr>\n",
       "    <tr>\n",
       "      <th>334</th>\n",
       "      <td>Next_UK_Zenith</td>\n",
       "      <td>9.0</td>\n",
       "      <td>RU</td>\n",
       "      <td>Desktop</td>\n",
       "      <td>GBP</td>\n",
       "      <td>254583.0</td>\n",
       "      <td>251489.0</td>\n",
       "      <td>116124.0</td>\n",
       "      <td>251.0</td>\n",
       "      <td>383.502848</td>\n",
       "      <td>0.000986</td>\n",
       "      <td>0.461746</td>\n",
       "    </tr>\n",
       "    <tr>\n",
       "      <th>335</th>\n",
       "      <td>Next_UK_Zenith</td>\n",
       "      <td>9.0</td>\n",
       "      <td>SK</td>\n",
       "      <td>Desktop</td>\n",
       "      <td>GBP</td>\n",
       "      <td>82911.0</td>\n",
       "      <td>81246.0</td>\n",
       "      <td>33392.0</td>\n",
       "      <td>81.0</td>\n",
       "      <td>102.547073</td>\n",
       "      <td>0.000977</td>\n",
       "      <td>0.410999</td>\n",
       "    </tr>\n",
       "    <tr>\n",
       "      <th>336</th>\n",
       "      <td>NaN</td>\n",
       "      <td>NaN</td>\n",
       "      <td>NaN</td>\n",
       "      <td>NaN</td>\n",
       "      <td>NaN</td>\n",
       "      <td>45679742.0</td>\n",
       "      <td>44193140.0</td>\n",
       "      <td>20722580.0</td>\n",
       "      <td>56081.0</td>\n",
       "      <td>103984.251973</td>\n",
       "      <td>0.001228</td>\n",
       "      <td>0.468909</td>\n",
       "    </tr>\n",
       "    <tr>\n",
       "      <th>337</th>\n",
       "      <td>Report Time:</td>\n",
       "      <td>NaN</td>\n",
       "      <td>NaN</td>\n",
       "      <td>NaN</td>\n",
       "      <td>NaN</td>\n",
       "      <td>NaN</td>\n",
       "      <td>NaN</td>\n",
       "      <td>NaN</td>\n",
       "      <td>NaN</td>\n",
       "      <td>NaN</td>\n",
       "      <td>NaN</td>\n",
       "      <td>NaN</td>\n",
       "    </tr>\n",
       "    <tr>\n",
       "      <th>338</th>\n",
       "      <td>Date Range:</td>\n",
       "      <td>NaN</td>\n",
       "      <td>NaN</td>\n",
       "      <td>NaN</td>\n",
       "      <td>NaN</td>\n",
       "      <td>NaN</td>\n",
       "      <td>NaN</td>\n",
       "      <td>NaN</td>\n",
       "      <td>NaN</td>\n",
       "      <td>NaN</td>\n",
       "      <td>NaN</td>\n",
       "      <td>NaN</td>\n",
       "    </tr>\n",
       "    <tr>\n",
       "      <th>339</th>\n",
       "      <td>Group By:</td>\n",
       "      <td>NaN</td>\n",
       "      <td>NaN</td>\n",
       "      <td>NaN</td>\n",
       "      <td>NaN</td>\n",
       "      <td>NaN</td>\n",
       "      <td>NaN</td>\n",
       "      <td>NaN</td>\n",
       "      <td>NaN</td>\n",
       "      <td>NaN</td>\n",
       "      <td>NaN</td>\n",
       "      <td>NaN</td>\n",
       "    </tr>\n",
       "    <tr>\n",
       "      <th>340</th>\n",
       "      <td>Group By:</td>\n",
       "      <td>NaN</td>\n",
       "      <td>NaN</td>\n",
       "      <td>NaN</td>\n",
       "      <td>NaN</td>\n",
       "      <td>NaN</td>\n",
       "      <td>NaN</td>\n",
       "      <td>NaN</td>\n",
       "      <td>NaN</td>\n",
       "      <td>NaN</td>\n",
       "      <td>NaN</td>\n",
       "      <td>NaN</td>\n",
       "    </tr>\n",
       "    <tr>\n",
       "      <th>341</th>\n",
       "      <td>Group By:</td>\n",
       "      <td>NaN</td>\n",
       "      <td>NaN</td>\n",
       "      <td>NaN</td>\n",
       "      <td>NaN</td>\n",
       "      <td>NaN</td>\n",
       "      <td>NaN</td>\n",
       "      <td>NaN</td>\n",
       "      <td>NaN</td>\n",
       "      <td>NaN</td>\n",
       "      <td>NaN</td>\n",
       "      <td>NaN</td>\n",
       "    </tr>\n",
       "    <tr>\n",
       "      <th>342</th>\n",
       "      <td>Group By:</td>\n",
       "      <td>NaN</td>\n",
       "      <td>NaN</td>\n",
       "      <td>NaN</td>\n",
       "      <td>NaN</td>\n",
       "      <td>NaN</td>\n",
       "      <td>NaN</td>\n",
       "      <td>NaN</td>\n",
       "      <td>NaN</td>\n",
       "      <td>NaN</td>\n",
       "      <td>NaN</td>\n",
       "      <td>NaN</td>\n",
       "    </tr>\n",
       "    <tr>\n",
       "      <th>343</th>\n",
       "      <td>Group By:</td>\n",
       "      <td>NaN</td>\n",
       "      <td>NaN</td>\n",
       "      <td>NaN</td>\n",
       "      <td>NaN</td>\n",
       "      <td>NaN</td>\n",
       "      <td>NaN</td>\n",
       "      <td>NaN</td>\n",
       "      <td>NaN</td>\n",
       "      <td>NaN</td>\n",
       "      <td>NaN</td>\n",
       "      <td>NaN</td>\n",
       "    </tr>\n",
       "    <tr>\n",
       "      <th>344</th>\n",
       "      <td>Group By:</td>\n",
       "      <td>NaN</td>\n",
       "      <td>NaN</td>\n",
       "      <td>NaN</td>\n",
       "      <td>NaN</td>\n",
       "      <td>NaN</td>\n",
       "      <td>NaN</td>\n",
       "      <td>NaN</td>\n",
       "      <td>NaN</td>\n",
       "      <td>NaN</td>\n",
       "      <td>NaN</td>\n",
       "      <td>NaN</td>\n",
       "    </tr>\n",
       "    <tr>\n",
       "      <th>345</th>\n",
       "      <td>Group By:</td>\n",
       "      <td>NaN</td>\n",
       "      <td>NaN</td>\n",
       "      <td>NaN</td>\n",
       "      <td>NaN</td>\n",
       "      <td>NaN</td>\n",
       "      <td>NaN</td>\n",
       "      <td>NaN</td>\n",
       "      <td>NaN</td>\n",
       "      <td>NaN</td>\n",
       "      <td>NaN</td>\n",
       "      <td>NaN</td>\n",
       "    </tr>\n",
       "    <tr>\n",
       "      <th>346</th>\n",
       "      <td>Group By:</td>\n",
       "      <td>NaN</td>\n",
       "      <td>NaN</td>\n",
       "      <td>NaN</td>\n",
       "      <td>NaN</td>\n",
       "      <td>NaN</td>\n",
       "      <td>NaN</td>\n",
       "      <td>NaN</td>\n",
       "      <td>NaN</td>\n",
       "      <td>NaN</td>\n",
       "      <td>NaN</td>\n",
       "      <td>NaN</td>\n",
       "    </tr>\n",
       "    <tr>\n",
       "      <th>347</th>\n",
       "      <td>Filter by Advertiser ID:</td>\n",
       "      <td>NaN</td>\n",
       "      <td>NaN</td>\n",
       "      <td>NaN</td>\n",
       "      <td>NaN</td>\n",
       "      <td>NaN</td>\n",
       "      <td>NaN</td>\n",
       "      <td>NaN</td>\n",
       "      <td>NaN</td>\n",
       "      <td>NaN</td>\n",
       "      <td>NaN</td>\n",
       "      <td>NaN</td>\n",
       "    </tr>\n",
       "    <tr>\n",
       "      <th>348</th>\n",
       "      <td>Filter by Partner ID:</td>\n",
       "      <td>NaN</td>\n",
       "      <td>NaN</td>\n",
       "      <td>NaN</td>\n",
       "      <td>NaN</td>\n",
       "      <td>NaN</td>\n",
       "      <td>NaN</td>\n",
       "      <td>NaN</td>\n",
       "      <td>NaN</td>\n",
       "      <td>NaN</td>\n",
       "      <td>NaN</td>\n",
       "      <td>NaN</td>\n",
       "    </tr>\n",
       "  </tbody>\n",
       "</table>\n",
       "</div>"
      ],
      "text/plain": [
       "                   Advertiser  TOD Country   DeviceType AdvertiserCurrency  \\\n",
       "329            Next_UK_Zenith  6.0      SK      Desktop                GBP   \n",
       "330            Next_UK_Zenith  6.0      UA      Desktop                GBP   \n",
       "331            Next_UK_Zenith  8.0      AU      Desktop                GBP   \n",
       "332            Next_UK_Zenith  9.0      CZ      Desktop                GBP   \n",
       "333            Next_UK_Zenith  9.0      GB  Smart Phone                GBP   \n",
       "334            Next_UK_Zenith  9.0      RU      Desktop                GBP   \n",
       "335            Next_UK_Zenith  9.0      SK      Desktop                GBP   \n",
       "336                       NaN  NaN     NaN          NaN                NaN   \n",
       "337              Report Time:  NaN     NaN          NaN                NaN   \n",
       "338               Date Range:  NaN     NaN          NaN                NaN   \n",
       "339                 Group By:  NaN     NaN          NaN                NaN   \n",
       "340                 Group By:  NaN     NaN          NaN                NaN   \n",
       "341                 Group By:  NaN     NaN          NaN                NaN   \n",
       "342                 Group By:  NaN     NaN          NaN                NaN   \n",
       "343                 Group By:  NaN     NaN          NaN                NaN   \n",
       "344                 Group By:  NaN     NaN          NaN                NaN   \n",
       "345                 Group By:  NaN     NaN          NaN                NaN   \n",
       "346                 Group By:  NaN     NaN          NaN                NaN   \n",
       "347  Filter by Advertiser ID:  NaN     NaN          NaN                NaN   \n",
       "348     Filter by Partner ID:  NaN     NaN          NaN                NaN   \n",
       "\n",
       "     Impressions  MeasurableImp  ViewableImp   Clicks          Spend  \\\n",
       "329      31278.0        30753.0      12280.0     29.0      41.617075   \n",
       "330     368776.0       361207.0     152639.0    331.0     218.427750   \n",
       "331      54393.0        53375.0      24957.0     41.0     109.464148   \n",
       "332      11734.0        11593.0       5158.0     25.0      34.568392   \n",
       "333     357093.0       333585.0     138886.0   1481.0     985.659847   \n",
       "334     254583.0       251489.0     116124.0    251.0     383.502848   \n",
       "335      82911.0        81246.0      33392.0     81.0     102.547073   \n",
       "336   45679742.0     44193140.0   20722580.0  56081.0  103984.251973   \n",
       "337          NaN            NaN          NaN      NaN            NaN   \n",
       "338          NaN            NaN          NaN      NaN            NaN   \n",
       "339          NaN            NaN          NaN      NaN            NaN   \n",
       "340          NaN            NaN          NaN      NaN            NaN   \n",
       "341          NaN            NaN          NaN      NaN            NaN   \n",
       "342          NaN            NaN          NaN      NaN            NaN   \n",
       "343          NaN            NaN          NaN      NaN            NaN   \n",
       "344          NaN            NaN          NaN      NaN            NaN   \n",
       "345          NaN            NaN          NaN      NaN            NaN   \n",
       "346          NaN            NaN          NaN      NaN            NaN   \n",
       "347          NaN            NaN          NaN      NaN            NaN   \n",
       "348          NaN            NaN          NaN      NaN            NaN   \n",
       "\n",
       "          CTR  Viewability  \n",
       "329  0.000927     0.399311  \n",
       "330  0.000898     0.422580  \n",
       "331  0.000754     0.467578  \n",
       "332  0.002131     0.444924  \n",
       "333  0.004147     0.416344  \n",
       "334  0.000986     0.461746  \n",
       "335  0.000977     0.410999  \n",
       "336  0.001228     0.468909  \n",
       "337       NaN          NaN  \n",
       "338       NaN          NaN  \n",
       "339       NaN          NaN  \n",
       "340       NaN          NaN  \n",
       "341       NaN          NaN  \n",
       "342       NaN          NaN  \n",
       "343       NaN          NaN  \n",
       "344       NaN          NaN  \n",
       "345       NaN          NaN  \n",
       "346       NaN          NaN  \n",
       "347       NaN          NaN  \n",
       "348       NaN          NaN  "
      ]
     },
     "execution_count": 38,
     "metadata": {},
     "output_type": "execute_result"
    }
   ],
   "source": [
    "ndata.tail(20)"
   ]
  },
  {
   "cell_type": "code",
   "execution_count": 39,
   "metadata": {
    "collapsed": false
   },
   "outputs": [],
   "source": [
    "ndata = ndata.drop(ndata.index[336:349])"
   ]
  },
  {
   "cell_type": "code",
   "execution_count": 40,
   "metadata": {
    "collapsed": false
   },
   "outputs": [
    {
     "data": {
      "text/html": [
       "<div>\n",
       "<table border=\"1\" class=\"dataframe\">\n",
       "  <thead>\n",
       "    <tr style=\"text-align: right;\">\n",
       "      <th></th>\n",
       "      <th>Advertiser</th>\n",
       "      <th>TOD</th>\n",
       "      <th>Country</th>\n",
       "      <th>DeviceType</th>\n",
       "      <th>AdvertiserCurrency</th>\n",
       "      <th>Impressions</th>\n",
       "      <th>MeasurableImp</th>\n",
       "      <th>ViewableImp</th>\n",
       "      <th>Clicks</th>\n",
       "      <th>Spend</th>\n",
       "      <th>CTR</th>\n",
       "      <th>Viewability</th>\n",
       "    </tr>\n",
       "  </thead>\n",
       "  <tbody>\n",
       "    <tr>\n",
       "      <th>326</th>\n",
       "      <td>Next_UK_Zenith</td>\n",
       "      <td>5.0</td>\n",
       "      <td>RO</td>\n",
       "      <td>Desktop</td>\n",
       "      <td>GBP</td>\n",
       "      <td>12740.0</td>\n",
       "      <td>12394.0</td>\n",
       "      <td>5162.0</td>\n",
       "      <td>25.0</td>\n",
       "      <td>16.076450</td>\n",
       "      <td>0.001962</td>\n",
       "      <td>0.416492</td>\n",
       "    </tr>\n",
       "    <tr>\n",
       "      <th>327</th>\n",
       "      <td>Next_UK_Zenith</td>\n",
       "      <td>5.0</td>\n",
       "      <td>RU</td>\n",
       "      <td>Desktop</td>\n",
       "      <td>GBP</td>\n",
       "      <td>169848.0</td>\n",
       "      <td>167973.0</td>\n",
       "      <td>72041.0</td>\n",
       "      <td>150.0</td>\n",
       "      <td>247.152407</td>\n",
       "      <td>0.000883</td>\n",
       "      <td>0.428884</td>\n",
       "    </tr>\n",
       "    <tr>\n",
       "      <th>328</th>\n",
       "      <td>Next_UK_Zenith</td>\n",
       "      <td>6.0</td>\n",
       "      <td>IL</td>\n",
       "      <td>Desktop</td>\n",
       "      <td>GBP</td>\n",
       "      <td>203448.0</td>\n",
       "      <td>199071.0</td>\n",
       "      <td>68870.0</td>\n",
       "      <td>320.0</td>\n",
       "      <td>804.384842</td>\n",
       "      <td>0.001573</td>\n",
       "      <td>0.345957</td>\n",
       "    </tr>\n",
       "    <tr>\n",
       "      <th>329</th>\n",
       "      <td>Next_UK_Zenith</td>\n",
       "      <td>6.0</td>\n",
       "      <td>SK</td>\n",
       "      <td>Desktop</td>\n",
       "      <td>GBP</td>\n",
       "      <td>31278.0</td>\n",
       "      <td>30753.0</td>\n",
       "      <td>12280.0</td>\n",
       "      <td>29.0</td>\n",
       "      <td>41.617075</td>\n",
       "      <td>0.000927</td>\n",
       "      <td>0.399311</td>\n",
       "    </tr>\n",
       "    <tr>\n",
       "      <th>330</th>\n",
       "      <td>Next_UK_Zenith</td>\n",
       "      <td>6.0</td>\n",
       "      <td>UA</td>\n",
       "      <td>Desktop</td>\n",
       "      <td>GBP</td>\n",
       "      <td>368776.0</td>\n",
       "      <td>361207.0</td>\n",
       "      <td>152639.0</td>\n",
       "      <td>331.0</td>\n",
       "      <td>218.427750</td>\n",
       "      <td>0.000898</td>\n",
       "      <td>0.422580</td>\n",
       "    </tr>\n",
       "    <tr>\n",
       "      <th>331</th>\n",
       "      <td>Next_UK_Zenith</td>\n",
       "      <td>8.0</td>\n",
       "      <td>AU</td>\n",
       "      <td>Desktop</td>\n",
       "      <td>GBP</td>\n",
       "      <td>54393.0</td>\n",
       "      <td>53375.0</td>\n",
       "      <td>24957.0</td>\n",
       "      <td>41.0</td>\n",
       "      <td>109.464148</td>\n",
       "      <td>0.000754</td>\n",
       "      <td>0.467578</td>\n",
       "    </tr>\n",
       "    <tr>\n",
       "      <th>332</th>\n",
       "      <td>Next_UK_Zenith</td>\n",
       "      <td>9.0</td>\n",
       "      <td>CZ</td>\n",
       "      <td>Desktop</td>\n",
       "      <td>GBP</td>\n",
       "      <td>11734.0</td>\n",
       "      <td>11593.0</td>\n",
       "      <td>5158.0</td>\n",
       "      <td>25.0</td>\n",
       "      <td>34.568392</td>\n",
       "      <td>0.002131</td>\n",
       "      <td>0.444924</td>\n",
       "    </tr>\n",
       "    <tr>\n",
       "      <th>333</th>\n",
       "      <td>Next_UK_Zenith</td>\n",
       "      <td>9.0</td>\n",
       "      <td>GB</td>\n",
       "      <td>Smart Phone</td>\n",
       "      <td>GBP</td>\n",
       "      <td>357093.0</td>\n",
       "      <td>333585.0</td>\n",
       "      <td>138886.0</td>\n",
       "      <td>1481.0</td>\n",
       "      <td>985.659847</td>\n",
       "      <td>0.004147</td>\n",
       "      <td>0.416344</td>\n",
       "    </tr>\n",
       "    <tr>\n",
       "      <th>334</th>\n",
       "      <td>Next_UK_Zenith</td>\n",
       "      <td>9.0</td>\n",
       "      <td>RU</td>\n",
       "      <td>Desktop</td>\n",
       "      <td>GBP</td>\n",
       "      <td>254583.0</td>\n",
       "      <td>251489.0</td>\n",
       "      <td>116124.0</td>\n",
       "      <td>251.0</td>\n",
       "      <td>383.502848</td>\n",
       "      <td>0.000986</td>\n",
       "      <td>0.461746</td>\n",
       "    </tr>\n",
       "    <tr>\n",
       "      <th>335</th>\n",
       "      <td>Next_UK_Zenith</td>\n",
       "      <td>9.0</td>\n",
       "      <td>SK</td>\n",
       "      <td>Desktop</td>\n",
       "      <td>GBP</td>\n",
       "      <td>82911.0</td>\n",
       "      <td>81246.0</td>\n",
       "      <td>33392.0</td>\n",
       "      <td>81.0</td>\n",
       "      <td>102.547073</td>\n",
       "      <td>0.000977</td>\n",
       "      <td>0.410999</td>\n",
       "    </tr>\n",
       "  </tbody>\n",
       "</table>\n",
       "</div>"
      ],
      "text/plain": [
       "         Advertiser  TOD Country   DeviceType AdvertiserCurrency  Impressions  \\\n",
       "326  Next_UK_Zenith  5.0      RO      Desktop                GBP      12740.0   \n",
       "327  Next_UK_Zenith  5.0      RU      Desktop                GBP     169848.0   \n",
       "328  Next_UK_Zenith  6.0      IL      Desktop                GBP     203448.0   \n",
       "329  Next_UK_Zenith  6.0      SK      Desktop                GBP      31278.0   \n",
       "330  Next_UK_Zenith  6.0      UA      Desktop                GBP     368776.0   \n",
       "331  Next_UK_Zenith  8.0      AU      Desktop                GBP      54393.0   \n",
       "332  Next_UK_Zenith  9.0      CZ      Desktop                GBP      11734.0   \n",
       "333  Next_UK_Zenith  9.0      GB  Smart Phone                GBP     357093.0   \n",
       "334  Next_UK_Zenith  9.0      RU      Desktop                GBP     254583.0   \n",
       "335  Next_UK_Zenith  9.0      SK      Desktop                GBP      82911.0   \n",
       "\n",
       "     MeasurableImp  ViewableImp  Clicks       Spend       CTR  Viewability  \n",
       "326        12394.0       5162.0    25.0   16.076450  0.001962     0.416492  \n",
       "327       167973.0      72041.0   150.0  247.152407  0.000883     0.428884  \n",
       "328       199071.0      68870.0   320.0  804.384842  0.001573     0.345957  \n",
       "329        30753.0      12280.0    29.0   41.617075  0.000927     0.399311  \n",
       "330       361207.0     152639.0   331.0  218.427750  0.000898     0.422580  \n",
       "331        53375.0      24957.0    41.0  109.464148  0.000754     0.467578  \n",
       "332        11593.0       5158.0    25.0   34.568392  0.002131     0.444924  \n",
       "333       333585.0     138886.0  1481.0  985.659847  0.004147     0.416344  \n",
       "334       251489.0     116124.0   251.0  383.502848  0.000986     0.461746  \n",
       "335        81246.0      33392.0    81.0  102.547073  0.000977     0.410999  "
      ]
     },
     "execution_count": 40,
     "metadata": {},
     "output_type": "execute_result"
    }
   ],
   "source": [
    "ndata.tail(10)"
   ]
  },
  {
   "cell_type": "code",
   "execution_count": 41,
   "metadata": {
    "collapsed": false
   },
   "outputs": [
    {
     "name": "stdout",
     "output_type": "stream",
     "text": [
      "<class 'pandas.core.frame.DataFrame'>\n",
      "Int64Index: 336 entries, 0 to 335\n",
      "Data columns (total 12 columns):\n",
      "Advertiser            336 non-null object\n",
      "TOD                   336 non-null float64\n",
      "Country               336 non-null category\n",
      "DeviceType            336 non-null category\n",
      "AdvertiserCurrency    336 non-null category\n",
      "Impressions           336 non-null float64\n",
      "MeasurableImp         336 non-null float64\n",
      "ViewableImp           336 non-null float64\n",
      "Clicks                336 non-null float64\n",
      "Spend                 336 non-null float64\n",
      "CTR                   336 non-null float64\n",
      "Viewability           336 non-null float64\n",
      "dtypes: category(3), float64(8), object(1)\n",
      "memory usage: 27.4+ KB\n"
     ]
    }
   ],
   "source": [
    "ndata.info()"
   ]
  },
  {
   "cell_type": "code",
   "execution_count": 91,
   "metadata": {
    "collapsed": false
   },
   "outputs": [
    {
     "data": {
      "text/html": [
       "<div>\n",
       "<table border=\"1\" class=\"dataframe\">\n",
       "  <thead>\n",
       "    <tr style=\"text-align: right;\">\n",
       "      <th></th>\n",
       "      <th>Advertiser</th>\n",
       "      <th>TOD</th>\n",
       "      <th>Country</th>\n",
       "      <th>DeviceType</th>\n",
       "      <th>AdvertiserCurrency</th>\n",
       "      <th>Impressions</th>\n",
       "      <th>MeasurableImp</th>\n",
       "      <th>ViewableImp</th>\n",
       "      <th>Clicks</th>\n",
       "      <th>Spend</th>\n",
       "      <th>CTR</th>\n",
       "      <th>Viewability</th>\n",
       "    </tr>\n",
       "  </thead>\n",
       "  <tbody>\n",
       "    <tr>\n",
       "      <th>0</th>\n",
       "      <td>Next_UK_Zenith</td>\n",
       "      <td>0.0</td>\n",
       "      <td>DE</td>\n",
       "      <td>Desktop</td>\n",
       "      <td>GBP</td>\n",
       "      <td>16033.0</td>\n",
       "      <td>15214.0</td>\n",
       "      <td>4048.0</td>\n",
       "      <td>3.0</td>\n",
       "      <td>15.064673</td>\n",
       "      <td>0.000187</td>\n",
       "      <td>0.266071</td>\n",
       "    </tr>\n",
       "    <tr>\n",
       "      <th>1</th>\n",
       "      <td>Next_UK_Zenith</td>\n",
       "      <td>0.0</td>\n",
       "      <td>HK</td>\n",
       "      <td>Desktop</td>\n",
       "      <td>GBP</td>\n",
       "      <td>24158.0</td>\n",
       "      <td>23581.0</td>\n",
       "      <td>9229.0</td>\n",
       "      <td>19.0</td>\n",
       "      <td>51.533391</td>\n",
       "      <td>0.000786</td>\n",
       "      <td>0.391374</td>\n",
       "    </tr>\n",
       "    <tr>\n",
       "      <th>2</th>\n",
       "      <td>Next_UK_Zenith</td>\n",
       "      <td>1.0</td>\n",
       "      <td>DE</td>\n",
       "      <td>Desktop</td>\n",
       "      <td>GBP</td>\n",
       "      <td>31903.0</td>\n",
       "      <td>30341.0</td>\n",
       "      <td>7678.0</td>\n",
       "      <td>6.0</td>\n",
       "      <td>25.592858</td>\n",
       "      <td>0.000188</td>\n",
       "      <td>0.253057</td>\n",
       "    </tr>\n",
       "    <tr>\n",
       "      <th>3</th>\n",
       "      <td>Next_UK_Zenith</td>\n",
       "      <td>1.0</td>\n",
       "      <td>GB</td>\n",
       "      <td>Desktop</td>\n",
       "      <td>GBP</td>\n",
       "      <td>94044.0</td>\n",
       "      <td>92256.0</td>\n",
       "      <td>57478.0</td>\n",
       "      <td>157.0</td>\n",
       "      <td>301.121433</td>\n",
       "      <td>0.001669</td>\n",
       "      <td>0.623027</td>\n",
       "    </tr>\n",
       "    <tr>\n",
       "      <th>4</th>\n",
       "      <td>Next_UK_Zenith</td>\n",
       "      <td>1.0</td>\n",
       "      <td>GB</td>\n",
       "      <td>Tablet</td>\n",
       "      <td>GBP</td>\n",
       "      <td>53025.0</td>\n",
       "      <td>48877.0</td>\n",
       "      <td>25243.0</td>\n",
       "      <td>49.0</td>\n",
       "      <td>125.552097</td>\n",
       "      <td>0.000924</td>\n",
       "      <td>0.516460</td>\n",
       "    </tr>\n",
       "  </tbody>\n",
       "</table>\n",
       "</div>"
      ],
      "text/plain": [
       "       Advertiser  TOD Country DeviceType AdvertiserCurrency  Impressions  \\\n",
       "0  Next_UK_Zenith  0.0      DE    Desktop                GBP      16033.0   \n",
       "1  Next_UK_Zenith  0.0      HK    Desktop                GBP      24158.0   \n",
       "2  Next_UK_Zenith  1.0      DE    Desktop                GBP      31903.0   \n",
       "3  Next_UK_Zenith  1.0      GB    Desktop                GBP      94044.0   \n",
       "4  Next_UK_Zenith  1.0      GB     Tablet                GBP      53025.0   \n",
       "\n",
       "   MeasurableImp  ViewableImp  Clicks       Spend       CTR  Viewability  \n",
       "0        15214.0       4048.0     3.0   15.064673  0.000187     0.266071  \n",
       "1        23581.0       9229.0    19.0   51.533391  0.000786     0.391374  \n",
       "2        30341.0       7678.0     6.0   25.592858  0.000188     0.253057  \n",
       "3        92256.0      57478.0   157.0  301.121433  0.001669     0.623027  \n",
       "4        48877.0      25243.0    49.0  125.552097  0.000924     0.516460  "
      ]
     },
     "execution_count": 91,
     "metadata": {},
     "output_type": "execute_result"
    }
   ],
   "source": [
    "ndata.head()"
   ]
  },
  {
   "cell_type": "code",
   "execution_count": 92,
   "metadata": {
    "collapsed": false
   },
   "outputs": [
    {
     "data": {
      "text/html": [
       "<div>\n",
       "<table border=\"1\" class=\"dataframe\">\n",
       "  <thead>\n",
       "    <tr style=\"text-align: right;\">\n",
       "      <th>DeviceType</th>\n",
       "      <th>Desktop</th>\n",
       "      <th>Smart Phone</th>\n",
       "      <th>Tablet</th>\n",
       "    </tr>\n",
       "    <tr>\n",
       "      <th>TOD</th>\n",
       "      <th></th>\n",
       "      <th></th>\n",
       "      <th></th>\n",
       "    </tr>\n",
       "  </thead>\n",
       "  <tbody>\n",
       "    <tr>\n",
       "      <th>0.0</th>\n",
       "      <td>39.000000</td>\n",
       "      <td>360.0</td>\n",
       "      <td>88.0</td>\n",
       "    </tr>\n",
       "    <tr>\n",
       "      <th>1.0</th>\n",
       "      <td>33.166667</td>\n",
       "      <td>267.0</td>\n",
       "      <td>49.0</td>\n",
       "    </tr>\n",
       "    <tr>\n",
       "      <th>2.0</th>\n",
       "      <td>32.416667</td>\n",
       "      <td>178.0</td>\n",
       "      <td>30.0</td>\n",
       "    </tr>\n",
       "    <tr>\n",
       "      <th>3.0</th>\n",
       "      <td>36.333333</td>\n",
       "      <td>152.0</td>\n",
       "      <td>20.0</td>\n",
       "    </tr>\n",
       "    <tr>\n",
       "      <th>4.0</th>\n",
       "      <td>39.666667</td>\n",
       "      <td>141.0</td>\n",
       "      <td>18.0</td>\n",
       "    </tr>\n",
       "    <tr>\n",
       "      <th>5.0</th>\n",
       "      <td>58.666667</td>\n",
       "      <td>238.0</td>\n",
       "      <td>34.0</td>\n",
       "    </tr>\n",
       "    <tr>\n",
       "      <th>6.0</th>\n",
       "      <td>107.916667</td>\n",
       "      <td>391.0</td>\n",
       "      <td>98.0</td>\n",
       "    </tr>\n",
       "    <tr>\n",
       "      <th>7.0</th>\n",
       "      <td>153.333333</td>\n",
       "      <td>926.0</td>\n",
       "      <td>137.0</td>\n",
       "    </tr>\n",
       "    <tr>\n",
       "      <th>8.0</th>\n",
       "      <td>179.166667</td>\n",
       "      <td>1363.0</td>\n",
       "      <td>164.0</td>\n",
       "    </tr>\n",
       "    <tr>\n",
       "      <th>9.0</th>\n",
       "      <td>179.583333</td>\n",
       "      <td>1481.0</td>\n",
       "      <td>156.0</td>\n",
       "    </tr>\n",
       "    <tr>\n",
       "      <th>10.0</th>\n",
       "      <td>173.166667</td>\n",
       "      <td>1415.0</td>\n",
       "      <td>141.0</td>\n",
       "    </tr>\n",
       "    <tr>\n",
       "      <th>11.0</th>\n",
       "      <td>172.833333</td>\n",
       "      <td>993.0</td>\n",
       "      <td>179.0</td>\n",
       "    </tr>\n",
       "    <tr>\n",
       "      <th>12.0</th>\n",
       "      <td>167.833333</td>\n",
       "      <td>626.0</td>\n",
       "      <td>152.0</td>\n",
       "    </tr>\n",
       "    <tr>\n",
       "      <th>13.0</th>\n",
       "      <td>163.583333</td>\n",
       "      <td>582.0</td>\n",
       "      <td>178.0</td>\n",
       "    </tr>\n",
       "    <tr>\n",
       "      <th>14.0</th>\n",
       "      <td>160.416667</td>\n",
       "      <td>522.0</td>\n",
       "      <td>200.0</td>\n",
       "    </tr>\n",
       "    <tr>\n",
       "      <th>15.0</th>\n",
       "      <td>155.916667</td>\n",
       "      <td>604.0</td>\n",
       "      <td>184.0</td>\n",
       "    </tr>\n",
       "    <tr>\n",
       "      <th>16.0</th>\n",
       "      <td>145.583333</td>\n",
       "      <td>802.0</td>\n",
       "      <td>221.0</td>\n",
       "    </tr>\n",
       "    <tr>\n",
       "      <th>17.0</th>\n",
       "      <td>153.166667</td>\n",
       "      <td>898.0</td>\n",
       "      <td>260.0</td>\n",
       "    </tr>\n",
       "    <tr>\n",
       "      <th>18.0</th>\n",
       "      <td>160.416667</td>\n",
       "      <td>952.0</td>\n",
       "      <td>322.0</td>\n",
       "    </tr>\n",
       "    <tr>\n",
       "      <th>19.0</th>\n",
       "      <td>174.000000</td>\n",
       "      <td>1035.0</td>\n",
       "      <td>335.0</td>\n",
       "    </tr>\n",
       "    <tr>\n",
       "      <th>20.0</th>\n",
       "      <td>164.333333</td>\n",
       "      <td>1122.0</td>\n",
       "      <td>373.0</td>\n",
       "    </tr>\n",
       "    <tr>\n",
       "      <th>21.0</th>\n",
       "      <td>120.333333</td>\n",
       "      <td>1018.0</td>\n",
       "      <td>349.0</td>\n",
       "    </tr>\n",
       "    <tr>\n",
       "      <th>22.0</th>\n",
       "      <td>82.250000</td>\n",
       "      <td>694.0</td>\n",
       "      <td>295.0</td>\n",
       "    </tr>\n",
       "    <tr>\n",
       "      <th>23.0</th>\n",
       "      <td>42.250000</td>\n",
       "      <td>451.0</td>\n",
       "      <td>143.0</td>\n",
       "    </tr>\n",
       "  </tbody>\n",
       "</table>\n",
       "</div>"
      ],
      "text/plain": [
       "DeviceType     Desktop  Smart Phone  Tablet\n",
       "TOD                                        \n",
       "0.0          39.000000        360.0    88.0\n",
       "1.0          33.166667        267.0    49.0\n",
       "2.0          32.416667        178.0    30.0\n",
       "3.0          36.333333        152.0    20.0\n",
       "4.0          39.666667        141.0    18.0\n",
       "5.0          58.666667        238.0    34.0\n",
       "6.0         107.916667        391.0    98.0\n",
       "7.0         153.333333        926.0   137.0\n",
       "8.0         179.166667       1363.0   164.0\n",
       "9.0         179.583333       1481.0   156.0\n",
       "10.0        173.166667       1415.0   141.0\n",
       "11.0        172.833333        993.0   179.0\n",
       "12.0        167.833333        626.0   152.0\n",
       "13.0        163.583333        582.0   178.0\n",
       "14.0        160.416667        522.0   200.0\n",
       "15.0        155.916667        604.0   184.0\n",
       "16.0        145.583333        802.0   221.0\n",
       "17.0        153.166667        898.0   260.0\n",
       "18.0        160.416667        952.0   322.0\n",
       "19.0        174.000000       1035.0   335.0\n",
       "20.0        164.333333       1122.0   373.0\n",
       "21.0        120.333333       1018.0   349.0\n",
       "22.0         82.250000        694.0   295.0\n",
       "23.0         42.250000        451.0   143.0"
      ]
     },
     "execution_count": 92,
     "metadata": {},
     "output_type": "execute_result"
    }
   ],
   "source": [
    "ndata.pivot_table(index=\"TOD\", columns=\"DeviceType\", values=\"Clicks\")"
   ]
  },
  {
   "cell_type": "code",
   "execution_count": null,
   "metadata": {
    "collapsed": true
   },
   "outputs": [],
   "source": []
  }
 ],
 "metadata": {
  "anaconda-cloud": {},
  "kernelspec": {
   "display_name": "Python [conda root]",
   "language": "python",
   "name": "conda-root-py"
  },
  "language_info": {
   "codemirror_mode": {
    "name": "ipython",
    "version": 3
   },
   "file_extension": ".py",
   "mimetype": "text/x-python",
   "name": "python",
   "nbconvert_exporter": "python",
   "pygments_lexer": "ipython3",
   "version": "3.5.2"
  }
 },
 "nbformat": 4,
 "nbformat_minor": 1
}
