{
 "cells": [
  {
   "cell_type": "code",
   "execution_count": 1,
   "metadata": {
    "collapsed": true
   },
   "outputs": [],
   "source": [
    "#in matrice the way to extract a value it goes like matrice[2 ,3]\n",
    "#however in dataframe thtat will return an error given the different syntax "
   ]
  },
  {
   "cell_type": "code",
   "execution_count": 2,
   "metadata": {
    "collapsed": true
   },
   "outputs": [],
   "source": [
    "import pandas as pd"
   ]
  },
  {
   "cell_type": "code",
   "execution_count": 4,
   "metadata": {
    "collapsed": false
   },
   "outputs": [],
   "source": [
    "data = pd.read_csv(\"sample.csv\")"
   ]
  },
  {
   "cell_type": "code",
   "execution_count": 7,
   "metadata": {
    "collapsed": false
   },
   "outputs": [
    {
     "data": {
      "text/html": [
       "<div>\n",
       "<table border=\"1\" class=\"dataframe\">\n",
       "  <thead>\n",
       "    <tr style=\"text-align: right;\">\n",
       "      <th></th>\n",
       "      <th>City</th>\n",
       "      <th>City ID</th>\n",
       "      <th>Country</th>\n",
       "      <th>Advertiser Currency</th>\n",
       "      <th>Impressions</th>\n",
       "      <th>Clicks</th>\n",
       "      <th>Revenue (Adv Currency)</th>\n",
       "    </tr>\n",
       "  </thead>\n",
       "  <tbody>\n",
       "    <tr>\n",
       "      <th>0</th>\n",
       "      <td>Abingdon</td>\n",
       "      <td>1006457</td>\n",
       "      <td>GB</td>\n",
       "      <td>GBP</td>\n",
       "      <td>174.0</td>\n",
       "      <td>1.0</td>\n",
       "      <td>0.468812</td>\n",
       "    </tr>\n",
       "    <tr>\n",
       "      <th>1</th>\n",
       "      <td>Alloa</td>\n",
       "      <td>1007295</td>\n",
       "      <td>GB</td>\n",
       "      <td>GBP</td>\n",
       "      <td>89.0</td>\n",
       "      <td>0.0</td>\n",
       "      <td>0.252819</td>\n",
       "    </tr>\n",
       "    <tr>\n",
       "      <th>2</th>\n",
       "      <td>Amersham</td>\n",
       "      <td>1006474</td>\n",
       "      <td>GB</td>\n",
       "      <td>GBP</td>\n",
       "      <td>45.0</td>\n",
       "      <td>0.0</td>\n",
       "      <td>0.126163</td>\n",
       "    </tr>\n",
       "    <tr>\n",
       "      <th>3</th>\n",
       "      <td>Annan</td>\n",
       "      <td>1007297</td>\n",
       "      <td>GB</td>\n",
       "      <td>GBP</td>\n",
       "      <td>58.0</td>\n",
       "      <td>0.0</td>\n",
       "      <td>0.144051</td>\n",
       "    </tr>\n",
       "    <tr>\n",
       "      <th>4</th>\n",
       "      <td>Baldock</td>\n",
       "      <td>1006493</td>\n",
       "      <td>GB</td>\n",
       "      <td>GBP</td>\n",
       "      <td>93.0</td>\n",
       "      <td>0.0</td>\n",
       "      <td>0.264777</td>\n",
       "    </tr>\n",
       "  </tbody>\n",
       "</table>\n",
       "</div>"
      ],
      "text/plain": [
       "       City  City ID Country Advertiser Currency  Impressions  Clicks  \\\n",
       "0  Abingdon  1006457      GB                 GBP        174.0     1.0   \n",
       "1     Alloa  1007295      GB                 GBP         89.0     0.0   \n",
       "2  Amersham  1006474      GB                 GBP         45.0     0.0   \n",
       "3     Annan  1007297      GB                 GBP         58.0     0.0   \n",
       "4   Baldock  1006493      GB                 GBP         93.0     0.0   \n",
       "\n",
       "   Revenue (Adv Currency)  \n",
       "0                0.468812  \n",
       "1                0.252819  \n",
       "2                0.126163  \n",
       "3                0.144051  \n",
       "4                0.264777  "
      ]
     },
     "execution_count": 7,
     "metadata": {},
     "output_type": "execute_result"
    }
   ],
   "source": [
    "data.head()"
   ]
  },
  {
   "cell_type": "code",
   "execution_count": 8,
   "metadata": {
    "collapsed": false
   },
   "outputs": [
    {
     "data": {
      "text/plain": [
       "'GB'"
      ]
     },
     "execution_count": 8,
     "metadata": {},
     "output_type": "execute_result"
    }
   ],
   "source": [
    "#to extract individual cell value there are 2 ways - using .iat or .at\n",
    "#however .iat uses counting methods whereas .at uses labels\n",
    "#assuming to extract the 3rd row and 3rd column\n",
    "#.iat the i stands for integer\n",
    "data.iat[2, 2]"
   ]
  },
  {
   "cell_type": "code",
   "execution_count": 9,
   "metadata": {
    "collapsed": false
   },
   "outputs": [
    {
     "data": {
      "text/plain": [
       "'GB'"
      ]
     },
     "execution_count": 9,
     "metadata": {},
     "output_type": "execute_result"
    }
   ],
   "source": [
    "data.at[2, \"Country\"]"
   ]
  },
  {
   "cell_type": "code",
   "execution_count": 10,
   "metadata": {
    "collapsed": true
   },
   "outputs": [],
   "source": [
    "#so above 2 both returns the same value, however\n",
    "#in .at the first value 2 is actually extracting the label in the data frame\n",
    "#in below example the two method will return different value"
   ]
  },
  {
   "cell_type": "code",
   "execution_count": 11,
   "metadata": {
    "collapsed": true
   },
   "outputs": [],
   "source": [
    "#firstly we build a dataframe taking the 10th rows \n",
    "data1 = data[::10]"
   ]
  },
  {
   "cell_type": "code",
   "execution_count": 26,
   "metadata": {
    "collapsed": false
   },
   "outputs": [
    {
     "data": {
      "text/html": [
       "<div>\n",
       "<table border=\"1\" class=\"dataframe\">\n",
       "  <thead>\n",
       "    <tr style=\"text-align: right;\">\n",
       "      <th></th>\n",
       "      <th>City</th>\n",
       "      <th>City ID</th>\n",
       "      <th>Country</th>\n",
       "      <th>Advertiser Currency</th>\n",
       "      <th>Impressions</th>\n",
       "      <th>Clicks</th>\n",
       "      <th>Revenue (Adv Currency)</th>\n",
       "    </tr>\n",
       "  </thead>\n",
       "  <tbody>\n",
       "    <tr>\n",
       "      <th>0</th>\n",
       "      <td>Abingdon</td>\n",
       "      <td>1006457</td>\n",
       "      <td>GB</td>\n",
       "      <td>GBP</td>\n",
       "      <td>174.0</td>\n",
       "      <td>1.0</td>\n",
       "      <td>0.468812</td>\n",
       "    </tr>\n",
       "    <tr>\n",
       "      <th>10</th>\n",
       "      <td>Bishop s Stortford</td>\n",
       "      <td>1006528</td>\n",
       "      <td>GB</td>\n",
       "      <td>GBP</td>\n",
       "      <td>124.0</td>\n",
       "      <td>0.0</td>\n",
       "      <td>0.319464</td>\n",
       "    </tr>\n",
       "    <tr>\n",
       "      <th>20</th>\n",
       "      <td>Brierley Hill</td>\n",
       "      <td>1006564</td>\n",
       "      <td>GB</td>\n",
       "      <td>GBP</td>\n",
       "      <td>168.0</td>\n",
       "      <td>0.0</td>\n",
       "      <td>0.445173</td>\n",
       "    </tr>\n",
       "    <tr>\n",
       "      <th>30</th>\n",
       "      <td>Burtonwood</td>\n",
       "      <td>1006587</td>\n",
       "      <td>GB</td>\n",
       "      <td>GBP</td>\n",
       "      <td>14.0</td>\n",
       "      <td>0.0</td>\n",
       "      <td>0.046699</td>\n",
       "    </tr>\n",
       "    <tr>\n",
       "      <th>40</th>\n",
       "      <td>Cumbernauld</td>\n",
       "      <td>1007315</td>\n",
       "      <td>GB</td>\n",
       "      <td>GBP</td>\n",
       "      <td>192.0</td>\n",
       "      <td>1.0</td>\n",
       "      <td>0.513809</td>\n",
       "    </tr>\n",
       "    <tr>\n",
       "      <th>50</th>\n",
       "      <td>Fairford</td>\n",
       "      <td>1006712</td>\n",
       "      <td>GB</td>\n",
       "      <td>GBP</td>\n",
       "      <td>94.0</td>\n",
       "      <td>0.0</td>\n",
       "      <td>0.238575</td>\n",
       "    </tr>\n",
       "    <tr>\n",
       "      <th>60</th>\n",
       "      <td>Havant</td>\n",
       "      <td>1006773</td>\n",
       "      <td>GB</td>\n",
       "      <td>GBP</td>\n",
       "      <td>239.0</td>\n",
       "      <td>0.0</td>\n",
       "      <td>0.649766</td>\n",
       "    </tr>\n",
       "    <tr>\n",
       "      <th>70</th>\n",
       "      <td>Keighley</td>\n",
       "      <td>1006832</td>\n",
       "      <td>GB</td>\n",
       "      <td>GBP</td>\n",
       "      <td>154.0</td>\n",
       "      <td>0.0</td>\n",
       "      <td>0.380129</td>\n",
       "    </tr>\n",
       "    <tr>\n",
       "      <th>80</th>\n",
       "      <td>Leeds</td>\n",
       "      <td>1006864</td>\n",
       "      <td>GB</td>\n",
       "      <td>GBP</td>\n",
       "      <td>3612.0</td>\n",
       "      <td>6.0</td>\n",
       "      <td>9.462534</td>\n",
       "    </tr>\n",
       "    <tr>\n",
       "      <th>90</th>\n",
       "      <td>Melton Mowbray</td>\n",
       "      <td>1006926</td>\n",
       "      <td>GB</td>\n",
       "      <td>GBP</td>\n",
       "      <td>198.0</td>\n",
       "      <td>0.0</td>\n",
       "      <td>0.514531</td>\n",
       "    </tr>\n",
       "    <tr>\n",
       "      <th>100</th>\n",
       "      <td>Oxted</td>\n",
       "      <td>1006977</td>\n",
       "      <td>GB</td>\n",
       "      <td>GBP</td>\n",
       "      <td>6.0</td>\n",
       "      <td>0.0</td>\n",
       "      <td>0.018554</td>\n",
       "    </tr>\n",
       "  </tbody>\n",
       "</table>\n",
       "</div>"
      ],
      "text/plain": [
       "                   City  City ID Country Advertiser Currency  Impressions  \\\n",
       "0              Abingdon  1006457      GB                 GBP        174.0   \n",
       "10   Bishop s Stortford  1006528      GB                 GBP        124.0   \n",
       "20        Brierley Hill  1006564      GB                 GBP        168.0   \n",
       "30           Burtonwood  1006587      GB                 GBP         14.0   \n",
       "40          Cumbernauld  1007315      GB                 GBP        192.0   \n",
       "50             Fairford  1006712      GB                 GBP         94.0   \n",
       "60               Havant  1006773      GB                 GBP        239.0   \n",
       "70             Keighley  1006832      GB                 GBP        154.0   \n",
       "80                Leeds  1006864      GB                 GBP       3612.0   \n",
       "90       Melton Mowbray  1006926      GB                 GBP        198.0   \n",
       "100               Oxted  1006977      GB                 GBP          6.0   \n",
       "\n",
       "     Clicks  Revenue (Adv Currency)  \n",
       "0       1.0                0.468812  \n",
       "10      0.0                0.319464  \n",
       "20      0.0                0.445173  \n",
       "30      0.0                0.046699  \n",
       "40      1.0                0.513809  \n",
       "50      0.0                0.238575  \n",
       "60      0.0                0.649766  \n",
       "70      0.0                0.380129  \n",
       "80      6.0                9.462534  \n",
       "90      0.0                0.514531  \n",
       "100     0.0                0.018554  "
      ]
     },
     "execution_count": 26,
     "metadata": {},
     "output_type": "execute_result"
    }
   ],
   "source": [
    "data1.head(11)"
   ]
  },
  {
   "cell_type": "code",
   "execution_count": 14,
   "metadata": {
    "collapsed": true
   },
   "outputs": [],
   "source": [
    "#then we try using both .iat and .at"
   ]
  },
  {
   "cell_type": "code",
   "execution_count": 25,
   "metadata": {
    "collapsed": false
   },
   "outputs": [
    {
     "data": {
      "text/plain": [
       "6.0"
      ]
     },
     "execution_count": 25,
     "metadata": {},
     "output_type": "execute_result"
    }
   ],
   "source": [
    "data1.iat[10, 4]"
   ]
  },
  {
   "cell_type": "code",
   "execution_count": 23,
   "metadata": {
    "collapsed": false
   },
   "outputs": [
    {
     "data": {
      "text/plain": [
       "124.0"
      ]
     },
     "execution_count": 23,
     "metadata": {},
     "output_type": "execute_result"
    }
   ],
   "source": [
    "data1.at[10, \"Impressions\"]"
   ]
  },
  {
   "cell_type": "code",
   "execution_count": 27,
   "metadata": {
    "collapsed": true
   },
   "outputs": [],
   "source": [
    "#so above .iat basically found the 10th rows and 4th column to return impression 6\n",
    "#whereas .at found the label 10 which is the second row and return impression 124"
   ]
  },
  {
   "cell_type": "code",
   "execution_count": null,
   "metadata": {
    "collapsed": true
   },
   "outputs": [],
   "source": []
  }
 ],
 "metadata": {
  "anaconda-cloud": {},
  "kernelspec": {
   "display_name": "Python [conda root]",
   "language": "python",
   "name": "conda-root-py"
  },
  "language_info": {
   "codemirror_mode": {
    "name": "ipython",
    "version": 3
   },
   "file_extension": ".py",
   "mimetype": "text/x-python",
   "name": "python",
   "nbconvert_exporter": "python",
   "pygments_lexer": "ipython3",
   "version": "3.5.2"
  }
 },
 "nbformat": 4,
 "nbformat_minor": 1
}
