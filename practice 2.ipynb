{
 "cells": [
  {
   "cell_type": "code",
   "execution_count": 1,
   "metadata": {
    "collapsed": true
   },
   "outputs": [],
   "source": [
    "import numpy as np\n",
    "import matplotlib.pyplot as plt\n",
    "import pandas as pd"
   ]
  },
  {
   "cell_type": "code",
   "execution_count": 2,
   "metadata": {
    "collapsed": true
   },
   "outputs": [],
   "source": [
    "#below numpy practice"
   ]
  },
  {
   "cell_type": "code",
   "execution_count": 3,
   "metadata": {
    "collapsed": true
   },
   "outputs": [],
   "source": [
    "sam = [65, 66, 67]\n",
    "natalia = [70, 72, 74]"
   ]
  },
  {
   "cell_type": "code",
   "execution_count": 5,
   "metadata": {
    "collapsed": false
   },
   "outputs": [],
   "source": [
    "two = np.array([sam, natalia])"
   ]
  },
  {
   "cell_type": "code",
   "execution_count": 6,
   "metadata": {
    "collapsed": false
   },
   "outputs": [
    {
     "name": "stdout",
     "output_type": "stream",
     "text": [
      "[[65 66 67]\n",
      " [70 72 74]]\n"
     ]
    }
   ],
   "source": [
    "print(two)"
   ]
  },
  {
   "cell_type": "code",
   "execution_count": 11,
   "metadata": {
    "collapsed": false
   },
   "outputs": [],
   "source": [
    "def together(name1, name2):\n",
    "    print(name1 + name2)"
   ]
  },
  {
   "cell_type": "code",
   "execution_count": 20,
   "metadata": {
    "collapsed": false
   },
   "outputs": [
    {
     "name": "stdout",
     "output_type": "stream",
     "text": [
      "[65, 66, 67, 70, 72, 74]\n"
     ]
    }
   ],
   "source": [
    "total=together(sam, natalia)"
   ]
  },
  {
   "cell_type": "code",
   "execution_count": 23,
   "metadata": {
    "collapsed": false
   },
   "outputs": [
    {
     "data": {
      "text/plain": [
       "numpy.ndarray"
      ]
     },
     "execution_count": 23,
     "metadata": {},
     "output_type": "execute_result"
    }
   ],
   "source": [
    "type(two)"
   ]
  },
  {
   "cell_type": "markdown",
   "metadata": {},
   "source": [
    "---"
   ]
  },
  {
   "cell_type": "code",
   "execution_count": 24,
   "metadata": {
    "collapsed": true
   },
   "outputs": [],
   "source": [
    "#below practice for matplot"
   ]
  },
  {
   "cell_type": "code",
   "execution_count": 27,
   "metadata": {
    "collapsed": false
   },
   "outputs": [
    {
     "data": {
      "image/png": "[encoded data removed]",
      "text/plain": [
       "<matplotlib.figure.Figure at 0x11343f128>"
      ]
     },
     "metadata": {},
     "output_type": "display_data"
    }
   ],
   "source": [
    "plt.plot(natalia)\n",
    "plt.show()"
   ]
  },
  {
   "cell_type": "code",
   "execution_count": 28,
   "metadata": {
    "collapsed": false
   },
   "outputs": [
    {
     "name": "stderr",
     "output_type": "stream",
     "text": [
      "/Applications/anaconda/lib/python3.5/site-packages/matplotlib/axes/_axes.py:531: UserWarning: No labelled objects found. Use label='...' kwarg on individual plots.\n",
      "  warnings.warn(\"No labelled objects found. \"\n"
     ]
    },
    {
     "data": {
      "image/png": "[encoded data removed]",
      "text/plain": [
       "<matplotlib.figure.Figure at 0x113f95550>"
      ]
     },
     "metadata": {},
     "output_type": "display_data"
    }
   ],
   "source": [
    "plt.plot(natalia, marker=\"^\", c=\"green\")\n",
    "plt.legend(bbox_to_anchor=(1.3, 1))\n",
    "plt.xticks([1, 2, 3])\n",
    "plt.show()"
   ]
  },
  {
   "cell_type": "markdown",
   "metadata": {},
   "source": [
    "---"
   ]
  },
  {
   "cell_type": "code",
   "execution_count": 29,
   "metadata": {
    "collapsed": true
   },
   "outputs": [],
   "source": [
    "#below the practice of pandas"
   ]
  },
  {
   "cell_type": "code",
   "execution_count": 30,
   "metadata": {
    "collapsed": true
   },
   "outputs": [],
   "source": [
    "import pandas as pd"
   ]
  },
  {
   "cell_type": "code",
   "execution_count": 32,
   "metadata": {
    "collapsed": false
   },
   "outputs": [],
   "source": [
    "data = pd.read_csv(\"sample.csv\")"
   ]
  },
  {
   "cell_type": "code",
   "execution_count": 34,
   "metadata": {
    "collapsed": false
   },
   "outputs": [
    {
     "data": {
      "text/html": [
       "<div>\n",
       "<table border=\"1\" class=\"dataframe\">\n",
       "  <thead>\n",
       "    <tr style=\"text-align: right;\">\n",
       "      <th></th>\n",
       "      <th>City</th>\n",
       "      <th>City ID</th>\n",
       "      <th>Country</th>\n",
       "      <th>Advertiser Currency</th>\n",
       "      <th>Impressions</th>\n",
       "      <th>Clicks</th>\n",
       "      <th>Revenue (Adv Currency)</th>\n",
       "    </tr>\n",
       "  </thead>\n",
       "  <tbody>\n",
       "    <tr>\n",
       "      <th>0</th>\n",
       "      <td>Abingdon</td>\n",
       "      <td>1006457</td>\n",
       "      <td>GB</td>\n",
       "      <td>GBP</td>\n",
       "      <td>174.0</td>\n",
       "      <td>1.0</td>\n",
       "      <td>0.468812</td>\n",
       "    </tr>\n",
       "    <tr>\n",
       "      <th>1</th>\n",
       "      <td>Alloa</td>\n",
       "      <td>1007295</td>\n",
       "      <td>GB</td>\n",
       "      <td>GBP</td>\n",
       "      <td>89.0</td>\n",
       "      <td>0.0</td>\n",
       "      <td>0.252819</td>\n",
       "    </tr>\n",
       "    <tr>\n",
       "      <th>2</th>\n",
       "      <td>Amersham</td>\n",
       "      <td>1006474</td>\n",
       "      <td>GB</td>\n",
       "      <td>GBP</td>\n",
       "      <td>45.0</td>\n",
       "      <td>0.0</td>\n",
       "      <td>0.126163</td>\n",
       "    </tr>\n",
       "    <tr>\n",
       "      <th>3</th>\n",
       "      <td>Annan</td>\n",
       "      <td>1007297</td>\n",
       "      <td>GB</td>\n",
       "      <td>GBP</td>\n",
       "      <td>58.0</td>\n",
       "      <td>0.0</td>\n",
       "      <td>0.144051</td>\n",
       "    </tr>\n",
       "    <tr>\n",
       "      <th>4</th>\n",
       "      <td>Baldock</td>\n",
       "      <td>1006493</td>\n",
       "      <td>GB</td>\n",
       "      <td>GBP</td>\n",
       "      <td>93.0</td>\n",
       "      <td>0.0</td>\n",
       "      <td>0.264777</td>\n",
       "    </tr>\n",
       "  </tbody>\n",
       "</table>\n",
       "</div>"
      ],
      "text/plain": [
       "       City  City ID Country Advertiser Currency  Impressions  Clicks  \\\n",
       "0  Abingdon  1006457      GB                 GBP        174.0     1.0   \n",
       "1     Alloa  1007295      GB                 GBP         89.0     0.0   \n",
       "2  Amersham  1006474      GB                 GBP         45.0     0.0   \n",
       "3     Annan  1007297      GB                 GBP         58.0     0.0   \n",
       "4   Baldock  1006493      GB                 GBP         93.0     0.0   \n",
       "\n",
       "   Revenue (Adv Currency)  \n",
       "0                0.468812  \n",
       "1                0.252819  \n",
       "2                0.126163  \n",
       "3                0.144051  \n",
       "4                0.264777  "
      ]
     },
     "execution_count": 34,
     "metadata": {},
     "output_type": "execute_result"
    }
   ],
   "source": [
    "data.head()"
   ]
  },
  {
   "cell_type": "code",
   "execution_count": 36,
   "metadata": {
    "collapsed": false
   },
   "outputs": [
    {
     "data": {
      "text/html": [
       "<div>\n",
       "<table border=\"1\" class=\"dataframe\">\n",
       "  <thead>\n",
       "    <tr style=\"text-align: right;\">\n",
       "      <th></th>\n",
       "      <th>City</th>\n",
       "      <th>City ID</th>\n",
       "      <th>Country</th>\n",
       "      <th>Advertiser Currency</th>\n",
       "      <th>Impressions</th>\n",
       "      <th>Clicks</th>\n",
       "      <th>Revenue (Adv Currency)</th>\n",
       "    </tr>\n",
       "  </thead>\n",
       "  <tbody>\n",
       "    <tr>\n",
       "      <th>843</th>\n",
       "      <td>Yarm</td>\n",
       "      <td>1007263</td>\n",
       "      <td>GB</td>\n",
       "      <td>GBP</td>\n",
       "      <td>5.0</td>\n",
       "      <td>0.0</td>\n",
       "      <td>0.017310</td>\n",
       "    </tr>\n",
       "    <tr>\n",
       "      <th>844</th>\n",
       "      <td>NaN</td>\n",
       "      <td>NaN</td>\n",
       "      <td>NaN</td>\n",
       "      <td>NaN</td>\n",
       "      <td>275810.0</td>\n",
       "      <td>478.0</td>\n",
       "      <td>724.855704</td>\n",
       "    </tr>\n",
       "    <tr>\n",
       "      <th>845</th>\n",
       "      <td>Report Time:</td>\n",
       "      <td>2017/01/08 13:29 GMT</td>\n",
       "      <td>NaN</td>\n",
       "      <td>NaN</td>\n",
       "      <td>NaN</td>\n",
       "      <td>NaN</td>\n",
       "      <td>NaN</td>\n",
       "    </tr>\n",
       "    <tr>\n",
       "      <th>846</th>\n",
       "      <td>Date Range:</td>\n",
       "      <td>2016/12/09 to 2017/01/07</td>\n",
       "      <td>NaN</td>\n",
       "      <td>NaN</td>\n",
       "      <td>NaN</td>\n",
       "      <td>NaN</td>\n",
       "      <td>NaN</td>\n",
       "    </tr>\n",
       "    <tr>\n",
       "      <th>847</th>\n",
       "      <td>Group By:</td>\n",
       "      <td>City</td>\n",
       "      <td>NaN</td>\n",
       "      <td>NaN</td>\n",
       "      <td>NaN</td>\n",
       "      <td>NaN</td>\n",
       "      <td>NaN</td>\n",
       "    </tr>\n",
       "    <tr>\n",
       "      <th>848</th>\n",
       "      <td>Group By:</td>\n",
       "      <td>City ID</td>\n",
       "      <td>NaN</td>\n",
       "      <td>NaN</td>\n",
       "      <td>NaN</td>\n",
       "      <td>NaN</td>\n",
       "      <td>NaN</td>\n",
       "    </tr>\n",
       "    <tr>\n",
       "      <th>849</th>\n",
       "      <td>Group By:</td>\n",
       "      <td>Country</td>\n",
       "      <td>NaN</td>\n",
       "      <td>NaN</td>\n",
       "      <td>NaN</td>\n",
       "      <td>NaN</td>\n",
       "      <td>NaN</td>\n",
       "    </tr>\n",
       "    <tr>\n",
       "      <th>850</th>\n",
       "      <td>Group By:</td>\n",
       "      <td>Advertiser Currency</td>\n",
       "      <td>NaN</td>\n",
       "      <td>NaN</td>\n",
       "      <td>NaN</td>\n",
       "      <td>NaN</td>\n",
       "      <td>NaN</td>\n",
       "    </tr>\n",
       "    <tr>\n",
       "      <th>851</th>\n",
       "      <td>Filter by Insertion Order ID:</td>\n",
       "      <td>2806249</td>\n",
       "      <td>NaN</td>\n",
       "      <td>NaN</td>\n",
       "      <td>NaN</td>\n",
       "      <td>NaN</td>\n",
       "      <td>NaN</td>\n",
       "    </tr>\n",
       "    <tr>\n",
       "      <th>852</th>\n",
       "      <td>Filter by Partner ID:</td>\n",
       "      <td>151</td>\n",
       "      <td>NaN</td>\n",
       "      <td>NaN</td>\n",
       "      <td>NaN</td>\n",
       "      <td>NaN</td>\n",
       "      <td>NaN</td>\n",
       "    </tr>\n",
       "  </tbody>\n",
       "</table>\n",
       "</div>"
      ],
      "text/plain": [
       "                              City                   City ID Country  \\\n",
       "843                           Yarm                   1007263      GB   \n",
       "844                            NaN                       NaN     NaN   \n",
       "845                   Report Time:      2017/01/08 13:29 GMT     NaN   \n",
       "846                    Date Range:  2016/12/09 to 2017/01/07     NaN   \n",
       "847                      Group By:                      City     NaN   \n",
       "848                      Group By:                   City ID     NaN   \n",
       "849                      Group By:                   Country     NaN   \n",
       "850                      Group By:       Advertiser Currency     NaN   \n",
       "851  Filter by Insertion Order ID:                   2806249     NaN   \n",
       "852          Filter by Partner ID:                       151     NaN   \n",
       "\n",
       "    Advertiser Currency  Impressions  Clicks  Revenue (Adv Currency)  \n",
       "843                 GBP          5.0     0.0                0.017310  \n",
       "844                 NaN     275810.0   478.0              724.855704  \n",
       "845                 NaN          NaN     NaN                     NaN  \n",
       "846                 NaN          NaN     NaN                     NaN  \n",
       "847                 NaN          NaN     NaN                     NaN  \n",
       "848                 NaN          NaN     NaN                     NaN  \n",
       "849                 NaN          NaN     NaN                     NaN  \n",
       "850                 NaN          NaN     NaN                     NaN  \n",
       "851                 NaN          NaN     NaN                     NaN  \n",
       "852                 NaN          NaN     NaN                     NaN  "
      ]
     },
     "execution_count": 36,
     "metadata": {},
     "output_type": "execute_result"
    }
   ],
   "source": [
    "data.tail(10)"
   ]
  },
  {
   "cell_type": "code",
   "execution_count": 38,
   "metadata": {
    "collapsed": false
   },
   "outputs": [
    {
     "data": {
      "text/plain": [
       "0    174.0\n",
       "1     89.0\n",
       "2     45.0\n",
       "3     58.0\n",
       "4     93.0\n",
       "Name: Impressions, dtype: float64"
      ]
     },
     "execution_count": 38,
     "metadata": {},
     "output_type": "execute_result"
    }
   ],
   "source": [
    "data[\"Impressions\"].head()"
   ]
  },
  {
   "cell_type": "code",
   "execution_count": 42,
   "metadata": {
    "collapsed": false
   },
   "outputs": [
    {
     "data": {
      "text/html": [
       "<div>\n",
       "<table border=\"1\" class=\"dataframe\">\n",
       "  <thead>\n",
       "    <tr style=\"text-align: right;\">\n",
       "      <th></th>\n",
       "      <th>City</th>\n",
       "      <th>Clicks</th>\n",
       "      <th>Impressions</th>\n",
       "    </tr>\n",
       "  </thead>\n",
       "  <tbody>\n",
       "    <tr>\n",
       "      <th>0</th>\n",
       "      <td>Abingdon</td>\n",
       "      <td>1.0</td>\n",
       "      <td>174.0</td>\n",
       "    </tr>\n",
       "    <tr>\n",
       "      <th>1</th>\n",
       "      <td>Alloa</td>\n",
       "      <td>0.0</td>\n",
       "      <td>89.0</td>\n",
       "    </tr>\n",
       "    <tr>\n",
       "      <th>2</th>\n",
       "      <td>Amersham</td>\n",
       "      <td>0.0</td>\n",
       "      <td>45.0</td>\n",
       "    </tr>\n",
       "    <tr>\n",
       "      <th>3</th>\n",
       "      <td>Annan</td>\n",
       "      <td>0.0</td>\n",
       "      <td>58.0</td>\n",
       "    </tr>\n",
       "    <tr>\n",
       "      <th>4</th>\n",
       "      <td>Baldock</td>\n",
       "      <td>0.0</td>\n",
       "      <td>93.0</td>\n",
       "    </tr>\n",
       "  </tbody>\n",
       "</table>\n",
       "</div>"
      ],
      "text/plain": [
       "       City  Clicks  Impressions\n",
       "0  Abingdon     1.0        174.0\n",
       "1     Alloa     0.0         89.0\n",
       "2  Amersham     0.0         45.0\n",
       "3     Annan     0.0         58.0\n",
       "4   Baldock     0.0         93.0"
      ]
     },
     "execution_count": 42,
     "metadata": {},
     "output_type": "execute_result"
    }
   ],
   "source": [
    "data[[\"City\", \"Clicks\", \"Impressions\"]].head()"
   ]
  },
  {
   "cell_type": "code",
   "execution_count": 43,
   "metadata": {
    "collapsed": true
   },
   "outputs": [],
   "source": [
    "#taking the 10th - 20th row of above"
   ]
  },
  {
   "cell_type": "code",
   "execution_count": 44,
   "metadata": {
    "collapsed": false
   },
   "outputs": [
    {
     "data": {
      "text/html": [
       "<div>\n",
       "<table border=\"1\" class=\"dataframe\">\n",
       "  <thead>\n",
       "    <tr style=\"text-align: right;\">\n",
       "      <th></th>\n",
       "      <th>City</th>\n",
       "      <th>Clicks</th>\n",
       "      <th>Impressions</th>\n",
       "    </tr>\n",
       "  </thead>\n",
       "  <tbody>\n",
       "    <tr>\n",
       "      <th>10</th>\n",
       "      <td>Bishop s Stortford</td>\n",
       "      <td>0.0</td>\n",
       "      <td>124.0</td>\n",
       "    </tr>\n",
       "    <tr>\n",
       "      <th>11</th>\n",
       "      <td>Blackburn</td>\n",
       "      <td>0.0</td>\n",
       "      <td>113.0</td>\n",
       "    </tr>\n",
       "    <tr>\n",
       "      <th>12</th>\n",
       "      <td>Blackpool</td>\n",
       "      <td>2.0</td>\n",
       "      <td>753.0</td>\n",
       "    </tr>\n",
       "    <tr>\n",
       "      <th>13</th>\n",
       "      <td>Blandford Forum</td>\n",
       "      <td>0.0</td>\n",
       "      <td>54.0</td>\n",
       "    </tr>\n",
       "    <tr>\n",
       "      <th>14</th>\n",
       "      <td>Bloxham</td>\n",
       "      <td>0.0</td>\n",
       "      <td>16.0</td>\n",
       "    </tr>\n",
       "    <tr>\n",
       "      <th>15</th>\n",
       "      <td>Bodmin</td>\n",
       "      <td>0.0</td>\n",
       "      <td>88.0</td>\n",
       "    </tr>\n",
       "    <tr>\n",
       "      <th>16</th>\n",
       "      <td>Bognor Regis</td>\n",
       "      <td>0.0</td>\n",
       "      <td>75.0</td>\n",
       "    </tr>\n",
       "    <tr>\n",
       "      <th>17</th>\n",
       "      <td>Bottisham</td>\n",
       "      <td>0.0</td>\n",
       "      <td>10.0</td>\n",
       "    </tr>\n",
       "    <tr>\n",
       "      <th>18</th>\n",
       "      <td>Bradford-on-Avon</td>\n",
       "      <td>0.0</td>\n",
       "      <td>9.0</td>\n",
       "    </tr>\n",
       "    <tr>\n",
       "      <th>19</th>\n",
       "      <td>Bridgnorth</td>\n",
       "      <td>2.0</td>\n",
       "      <td>168.0</td>\n",
       "    </tr>\n",
       "    <tr>\n",
       "      <th>20</th>\n",
       "      <td>Brierley Hill</td>\n",
       "      <td>0.0</td>\n",
       "      <td>168.0</td>\n",
       "    </tr>\n",
       "  </tbody>\n",
       "</table>\n",
       "</div>"
      ],
      "text/plain": [
       "                  City  Clicks  Impressions\n",
       "10  Bishop s Stortford     0.0        124.0\n",
       "11           Blackburn     0.0        113.0\n",
       "12           Blackpool     2.0        753.0\n",
       "13     Blandford Forum     0.0         54.0\n",
       "14             Bloxham     0.0         16.0\n",
       "15              Bodmin     0.0         88.0\n",
       "16        Bognor Regis     0.0         75.0\n",
       "17           Bottisham     0.0         10.0\n",
       "18    Bradford-on-Avon     0.0          9.0\n",
       "19          Bridgnorth     2.0        168.0\n",
       "20       Brierley Hill     0.0        168.0"
      ]
     },
     "execution_count": 44,
     "metadata": {},
     "output_type": "execute_result"
    }
   ],
   "source": [
    "data[[\"City\",\"Clicks\", \"Impressions\"]][10:21]"
   ]
  },
  {
   "cell_type": "code",
   "execution_count": 47,
   "metadata": {
    "collapsed": true
   },
   "outputs": [],
   "source": [
    "filtering1 = data[\"Impressions\"] > 2000"
   ]
  },
  {
   "cell_type": "code",
   "execution_count": 48,
   "metadata": {
    "collapsed": false
   },
   "outputs": [
    {
     "data": {
      "text/html": [
       "<div>\n",
       "<table border=\"1\" class=\"dataframe\">\n",
       "  <thead>\n",
       "    <tr style=\"text-align: right;\">\n",
       "      <th></th>\n",
       "      <th>City</th>\n",
       "      <th>City ID</th>\n",
       "      <th>Country</th>\n",
       "      <th>Advertiser Currency</th>\n",
       "      <th>Impressions</th>\n",
       "      <th>Clicks</th>\n",
       "      <th>Revenue (Adv Currency)</th>\n",
       "    </tr>\n",
       "  </thead>\n",
       "  <tbody>\n",
       "    <tr>\n",
       "      <th>9</th>\n",
       "      <td>Birmingham</td>\n",
       "      <td>1006524</td>\n",
       "      <td>GB</td>\n",
       "      <td>GBP</td>\n",
       "      <td>5049.0</td>\n",
       "      <td>4.0</td>\n",
       "      <td>13.131432</td>\n",
       "    </tr>\n",
       "    <tr>\n",
       "      <th>23</th>\n",
       "      <td>Bristol</td>\n",
       "      <td>1006567</td>\n",
       "      <td>GB</td>\n",
       "      <td>GBP</td>\n",
       "      <td>2936.0</td>\n",
       "      <td>4.0</td>\n",
       "      <td>7.821674</td>\n",
       "    </tr>\n",
       "    <tr>\n",
       "      <th>56</th>\n",
       "      <td>Glasgow</td>\n",
       "      <td>1007336</td>\n",
       "      <td>GB</td>\n",
       "      <td>GBP</td>\n",
       "      <td>3970.0</td>\n",
       "      <td>5.0</td>\n",
       "      <td>10.518086</td>\n",
       "    </tr>\n",
       "    <tr>\n",
       "      <th>80</th>\n",
       "      <td>Leeds</td>\n",
       "      <td>1006864</td>\n",
       "      <td>GB</td>\n",
       "      <td>GBP</td>\n",
       "      <td>3612.0</td>\n",
       "      <td>6.0</td>\n",
       "      <td>9.462534</td>\n",
       "    </tr>\n",
       "    <tr>\n",
       "      <th>113</th>\n",
       "      <td>Sheffield</td>\n",
       "      <td>1007064</td>\n",
       "      <td>GB</td>\n",
       "      <td>GBP</td>\n",
       "      <td>3536.0</td>\n",
       "      <td>4.0</td>\n",
       "      <td>9.100710</td>\n",
       "    </tr>\n",
       "    <tr>\n",
       "      <th>260</th>\n",
       "      <td>Manchester</td>\n",
       "      <td>1006912</td>\n",
       "      <td>GB</td>\n",
       "      <td>GBP</td>\n",
       "      <td>2848.0</td>\n",
       "      <td>5.0</td>\n",
       "      <td>7.438924</td>\n",
       "    </tr>\n",
       "    <tr>\n",
       "      <th>265</th>\n",
       "      <td>Newcastle upon Tyne</td>\n",
       "      <td>1006948</td>\n",
       "      <td>GB</td>\n",
       "      <td>GBP</td>\n",
       "      <td>2143.0</td>\n",
       "      <td>4.0</td>\n",
       "      <td>5.690820</td>\n",
       "    </tr>\n",
       "    <tr>\n",
       "      <th>392</th>\n",
       "      <td>Edinburgh</td>\n",
       "      <td>1007326</td>\n",
       "      <td>GB</td>\n",
       "      <td>GBP</td>\n",
       "      <td>2100.0</td>\n",
       "      <td>1.0</td>\n",
       "      <td>5.642269</td>\n",
       "    </tr>\n",
       "    <tr>\n",
       "      <th>501</th>\n",
       "      <td>Unknown</td>\n",
       "      <td>Unknown</td>\n",
       "      <td>GB</td>\n",
       "      <td>GBP</td>\n",
       "      <td>58965.0</td>\n",
       "      <td>102.0</td>\n",
       "      <td>155.147206</td>\n",
       "    </tr>\n",
       "    <tr>\n",
       "      <th>614</th>\n",
       "      <td>Liverpool</td>\n",
       "      <td>1006884</td>\n",
       "      <td>GB</td>\n",
       "      <td>GBP</td>\n",
       "      <td>3041.0</td>\n",
       "      <td>6.0</td>\n",
       "      <td>7.944860</td>\n",
       "    </tr>\n",
       "    <tr>\n",
       "      <th>774</th>\n",
       "      <td>London</td>\n",
       "      <td>1006886</td>\n",
       "      <td>GB</td>\n",
       "      <td>GBP</td>\n",
       "      <td>29341.0</td>\n",
       "      <td>33.0</td>\n",
       "      <td>77.162183</td>\n",
       "    </tr>\n",
       "    <tr>\n",
       "      <th>844</th>\n",
       "      <td>NaN</td>\n",
       "      <td>NaN</td>\n",
       "      <td>NaN</td>\n",
       "      <td>NaN</td>\n",
       "      <td>275810.0</td>\n",
       "      <td>478.0</td>\n",
       "      <td>724.855704</td>\n",
       "    </tr>\n",
       "  </tbody>\n",
       "</table>\n",
       "</div>"
      ],
      "text/plain": [
       "                    City  City ID Country Advertiser Currency  Impressions  \\\n",
       "9             Birmingham  1006524      GB                 GBP       5049.0   \n",
       "23               Bristol  1006567      GB                 GBP       2936.0   \n",
       "56               Glasgow  1007336      GB                 GBP       3970.0   \n",
       "80                 Leeds  1006864      GB                 GBP       3612.0   \n",
       "113            Sheffield  1007064      GB                 GBP       3536.0   \n",
       "260           Manchester  1006912      GB                 GBP       2848.0   \n",
       "265  Newcastle upon Tyne  1006948      GB                 GBP       2143.0   \n",
       "392            Edinburgh  1007326      GB                 GBP       2100.0   \n",
       "501              Unknown  Unknown      GB                 GBP      58965.0   \n",
       "614            Liverpool  1006884      GB                 GBP       3041.0   \n",
       "774               London  1006886      GB                 GBP      29341.0   \n",
       "844                  NaN      NaN     NaN                 NaN     275810.0   \n",
       "\n",
       "     Clicks  Revenue (Adv Currency)  \n",
       "9       4.0               13.131432  \n",
       "23      4.0                7.821674  \n",
       "56      5.0               10.518086  \n",
       "80      6.0                9.462534  \n",
       "113     4.0                9.100710  \n",
       "260     5.0                7.438924  \n",
       "265     4.0                5.690820  \n",
       "392     1.0                5.642269  \n",
       "501   102.0              155.147206  \n",
       "614     6.0                7.944860  \n",
       "774    33.0               77.162183  \n",
       "844   478.0              724.855704  "
      ]
     },
     "execution_count": 48,
     "metadata": {},
     "output_type": "execute_result"
    }
   ],
   "source": [
    "data[filtering1]"
   ]
  },
  {
   "cell_type": "code",
   "execution_count": 49,
   "metadata": {
    "collapsed": true
   },
   "outputs": [],
   "source": [
    "filtering2 = data[\"Clicks\"] > 100"
   ]
  },
  {
   "cell_type": "code",
   "execution_count": 50,
   "metadata": {
    "collapsed": false
   },
   "outputs": [
    {
     "data": {
      "text/html": [
       "<div>\n",
       "<table border=\"1\" class=\"dataframe\">\n",
       "  <thead>\n",
       "    <tr style=\"text-align: right;\">\n",
       "      <th></th>\n",
       "      <th>City</th>\n",
       "      <th>City ID</th>\n",
       "      <th>Country</th>\n",
       "      <th>Advertiser Currency</th>\n",
       "      <th>Impressions</th>\n",
       "      <th>Clicks</th>\n",
       "      <th>Revenue (Adv Currency)</th>\n",
       "    </tr>\n",
       "  </thead>\n",
       "  <tbody>\n",
       "    <tr>\n",
       "      <th>501</th>\n",
       "      <td>Unknown</td>\n",
       "      <td>Unknown</td>\n",
       "      <td>GB</td>\n",
       "      <td>GBP</td>\n",
       "      <td>58965.0</td>\n",
       "      <td>102.0</td>\n",
       "      <td>155.147206</td>\n",
       "    </tr>\n",
       "    <tr>\n",
       "      <th>844</th>\n",
       "      <td>NaN</td>\n",
       "      <td>NaN</td>\n",
       "      <td>NaN</td>\n",
       "      <td>NaN</td>\n",
       "      <td>275810.0</td>\n",
       "      <td>478.0</td>\n",
       "      <td>724.855704</td>\n",
       "    </tr>\n",
       "  </tbody>\n",
       "</table>\n",
       "</div>"
      ],
      "text/plain": [
       "        City  City ID Country Advertiser Currency  Impressions  Clicks  \\\n",
       "501  Unknown  Unknown      GB                 GBP      58965.0   102.0   \n",
       "844      NaN      NaN     NaN                 NaN     275810.0   478.0   \n",
       "\n",
       "     Revenue (Adv Currency)  \n",
       "501              155.147206  \n",
       "844              724.855704  "
      ]
     },
     "execution_count": 50,
     "metadata": {},
     "output_type": "execute_result"
    }
   ],
   "source": [
    "data[filtering1 & filtering2]"
   ]
  },
  {
   "cell_type": "code",
   "execution_count": 51,
   "metadata": {
    "collapsed": false
   },
   "outputs": [
    {
     "data": {
      "text/html": [
       "<div>\n",
       "<table border=\"1\" class=\"dataframe\">\n",
       "  <thead>\n",
       "    <tr style=\"text-align: right;\">\n",
       "      <th></th>\n",
       "      <th>City</th>\n",
       "      <th>City ID</th>\n",
       "      <th>Country</th>\n",
       "      <th>Advertiser Currency</th>\n",
       "      <th>Impressions</th>\n",
       "      <th>Clicks</th>\n",
       "      <th>Revenue (Adv Currency)</th>\n",
       "    </tr>\n",
       "  </thead>\n",
       "  <tbody>\n",
       "    <tr>\n",
       "      <th>501</th>\n",
       "      <td>Unknown</td>\n",
       "      <td>Unknown</td>\n",
       "      <td>GB</td>\n",
       "      <td>GBP</td>\n",
       "      <td>58965.0</td>\n",
       "      <td>102.0</td>\n",
       "      <td>155.147206</td>\n",
       "    </tr>\n",
       "    <tr>\n",
       "      <th>844</th>\n",
       "      <td>NaN</td>\n",
       "      <td>NaN</td>\n",
       "      <td>NaN</td>\n",
       "      <td>NaN</td>\n",
       "      <td>275810.0</td>\n",
       "      <td>478.0</td>\n",
       "      <td>724.855704</td>\n",
       "    </tr>\n",
       "  </tbody>\n",
       "</table>\n",
       "</div>"
      ],
      "text/plain": [
       "        City  City ID Country Advertiser Currency  Impressions  Clicks  \\\n",
       "501  Unknown  Unknown      GB                 GBP      58965.0   102.0   \n",
       "844      NaN      NaN     NaN                 NaN     275810.0   478.0   \n",
       "\n",
       "     Revenue (Adv Currency)  \n",
       "501              155.147206  \n",
       "844              724.855704  "
      ]
     },
     "execution_count": 51,
     "metadata": {},
     "output_type": "execute_result"
    }
   ],
   "source": [
    "#doing the same thing above\n",
    "data[(data[\"Impressions\"] > 2000) & (data[\"Clicks\"] > 100)]"
   ]
  },
  {
   "cell_type": "code",
   "execution_count": null,
   "metadata": {
    "collapsed": true
   },
   "outputs": [],
   "source": []
  }
 ],
 "metadata": {
  "anaconda-cloud": {},
  "kernelspec": {
   "display_name": "Python [conda root]",
   "language": "python",
   "name": "conda-root-py"
  },
  "language_info": {
   "codemirror_mode": {
    "name": "ipython",
    "version": 3
   },
   "file_extension": ".py",
   "mimetype": "text/x-python",
   "name": "python",
   "nbconvert_exporter": "python",
   "pygments_lexer": "ipython3",
   "version": "3.5.2"
  }
 },
 "nbformat": 4,
 "nbformat_minor": 1
}
